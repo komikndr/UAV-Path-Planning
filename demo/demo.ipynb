{
 "cells": [
  {
   "cell_type": "markdown",
   "metadata": {},
   "source": [
    "# UPT DEMO"
   ]
  },
  {
   "cell_type": "markdown",
   "metadata": {},
   "source": [
    "### Basic Setup"
   ]
  },
  {
   "cell_type": "code",
   "execution_count": null,
   "metadata": {},
   "outputs": [],
   "source": [
    "from upt.preprocessor.features_of_interest import FeatureOfInterest as foi\n",
    "from upt.postprocessor.a_star import AStar\n",
    "from upt.utils.geo_utils import line_smoothing as lsp\n",
    "\n",
    "import matplotlib.pyplot as plt\n",
    "\n",
    "\n",
    "depok_obj = foi('Depok',crs=3857,zoom_level=17)\n",
    "depok_school = depok_obj.area_of_interest({'amenity':'school'})\n",
    "\n",
    "\n",
    "depok_star = AStar(depok_school,'area',crs=depok_school.crs)\n",
    "depok_path = depok_star.run_instance(3,1000)\n",
    "way_marker = depok_star.create_line()\n",
    "way_path = lsp(way_marker[:,0],way_marker[:,1],)\n",
    "\n",
    "ax = depok_school.plot(column=\"amenity school_area\",cmap='afmhot')\n",
    "plt.plot(way_path[:,0], way_path[:,1],color='blue')"
   ]
  },
  {
   "cell_type": "markdown",
   "metadata": {},
   "source": [
    "### Multiple Map Features Calls "
   ]
  },
  {
   "cell_type": "code",
   "execution_count": null,
   "metadata": {},
   "outputs": [],
   "source": [
    "from upt.preprocessor.features_of_interest import FeatureOfInterest as foi\n",
    "from upt.postprocessor.a_star import AStar\n",
    "from upt.utils.geo_utils import line_smoothing as lsp\n",
    "\n",
    "import matplotlib.pyplot as plt\n",
    "\n",
    "depok_obj = foi('Depok',crs=3857,zoom_level=17)\n",
    "feature_list = [{\"amenity\":\"school\"},{\"amenity\":\"cafe\"}]\n",
    "depok_school = depok_obj.mul_area_of_interest(feature_list)\n",
    "\n",
    "print(depok_school)"
   ]
  },
  {
   "cell_type": "markdown",
   "metadata": {},
   "source": [
    "### Offline Mode"
   ]
  },
  {
   "cell_type": "code",
   "execution_count": null,
   "metadata": {},
   "outputs": [],
   "source": [
    "from upt.preprocessor.features_of_interest import FeatureOfInterest as foi\n",
    "from upt.postprocessor.a_star import AStar\n",
    "from upt.utils.geo_utils import line_smoothing as lsp\n",
    "from upt.utils.file_handle import FileHandle\n",
    "\n",
    "import matplotlib.pyplot as plt\n",
    "\n",
    "fh = FileHandle(\"14525364_Depok\")\n",
    "depok_school = fh.load_gdf(\"Depok_calculated_amenity_school\",fh.feature_dir)\n",
    "\n",
    "depok_star = AStar(depok_school,'area',crs=depok_school.crs)\n",
    "depok_path = depok_star.run_instance(3,1000)\n",
    "way_marker = depok_star.create_line()\n",
    "way_path = lsp(way_marker[:,0],way_marker[:,1],)\n",
    "# print(way_marker)\n",
    "\n",
    "ax = depok_school.plot(column=\"amenity school_area\",cmap='afmhot')\n",
    "plt.plot(way_path[:,0], way_path[:,1],color='blue')"
   ]
  },
  {
   "cell_type": "markdown",
   "metadata": {},
   "source": [
    "### Geocode Capability"
   ]
  },
  {
   "cell_type": "code",
   "execution_count": null,
   "metadata": {},
   "outputs": [],
   "source": [
    "from upt.preprocessor.features_of_interest import FeatureOfInterest as foi\n",
    "from upt.postprocessor.a_star import AStar\n",
    "from upt.utils.geo_utils import line_smoothing as lsp\n",
    "\n",
    "import matplotlib.pyplot as plt\n",
    "\n",
    "\n",
    "depok_obj = foi('Depok',crs=3857,zoom_level=17)\n",
    "depok_school = depok_obj.area_of_interest({'amenity':'school'})\n",
    "\n",
    "\n",
    "depok_star = AStar(depok_school,'area',crs=depok_school.crs)\n",
    "depok_path = depok_star.run_instance(\"Tanah Baru Beji\",\"SMAN 2 Depok\")\n",
    "way_marker = depok_star.create_line()\n",
    "way_path = lsp(way_marker[:,0],way_marker[:,1],)\n",
    "\n",
    "ax = depok_school.plot(column=\"amenity school_area\",cmap='afmhot')\n",
    "plt.plot(way_path[:,0], way_path[:,1],color='blue')"
   ]
  }
 ],
 "metadata": {
  "kernelspec": {
   "display_name": "Python 3.10.6 ('ox')",
   "language": "python",
   "name": "python3"
  },
  "language_info": {
   "codemirror_mode": {
    "name": "ipython",
    "version": 3
   },
   "file_extension": ".py",
   "mimetype": "text/x-python",
   "name": "python",
   "nbconvert_exporter": "python",
   "pygments_lexer": "ipython3",
   "version": "3.10.6"
  },
  "orig_nbformat": 4,
  "vscode": {
   "interpreter": {
    "hash": "e1912d2232e61b75ce92d7aa23bc8b095093cccdcafbeb3fccfcdbfc6fd8fcc6"
   }
  }
 },
 "nbformat": 4,
 "nbformat_minor": 2
}
