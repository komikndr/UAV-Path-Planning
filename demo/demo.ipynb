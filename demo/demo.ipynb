{
 "cells": [
  {
   "cell_type": "markdown",
   "metadata": {},
   "source": [
    "# UPT DEMO"
   ]
  },
  {
   "cell_type": "markdown",
   "metadata": {},
   "source": [
    "### Basic Setup"
   ]
  },
  {
   "cell_type": "code",
   "execution_count": 1,
   "metadata": {},
   "outputs": [
    {
     "ename": "ModuleNotFoundError",
     "evalue": "No module named 'upt'",
     "output_type": "error",
     "traceback": [
      "\u001b[1;31m---------------------------------------------------------------------------\u001b[0m",
      "\u001b[1;31mModuleNotFoundError\u001b[0m                       Traceback (most recent call last)",
      "Cell \u001b[1;32mIn [1], line 1\u001b[0m\n\u001b[1;32m----> 1\u001b[0m \u001b[38;5;28;01mfrom\u001b[39;00m \u001b[38;5;21;01mupt\u001b[39;00m\u001b[38;5;21;01m.\u001b[39;00m\u001b[38;5;21;01mpreprocessor\u001b[39;00m\u001b[38;5;21;01m.\u001b[39;00m\u001b[38;5;21;01mfeatures_of_interest\u001b[39;00m \u001b[38;5;28;01mimport\u001b[39;00m FeatureOfInterest \u001b[38;5;28;01mas\u001b[39;00m foi\n\u001b[0;32m      2\u001b[0m \u001b[38;5;28;01mfrom\u001b[39;00m \u001b[38;5;21;01mupt\u001b[39;00m\u001b[38;5;21;01m.\u001b[39;00m\u001b[38;5;21;01mpostprocessor\u001b[39;00m\u001b[38;5;21;01m.\u001b[39;00m\u001b[38;5;21;01ma_star\u001b[39;00m \u001b[38;5;28;01mimport\u001b[39;00m AStar\n\u001b[0;32m      3\u001b[0m \u001b[38;5;28;01mfrom\u001b[39;00m \u001b[38;5;21;01mupt\u001b[39;00m\u001b[38;5;21;01m.\u001b[39;00m\u001b[38;5;21;01mutils\u001b[39;00m\u001b[38;5;21;01m.\u001b[39;00m\u001b[38;5;21;01mgeo_utils\u001b[39;00m \u001b[38;5;28;01mimport\u001b[39;00m line_smoothing \u001b[38;5;28;01mas\u001b[39;00m lsp\n",
      "\u001b[1;31mModuleNotFoundError\u001b[0m: No module named 'upt'"
     ]
    }
   ],
   "source": [
    "from upt.preprocessor.features_of_interest import FeatureOfInterest as foi\n",
    "from upt.postprocessor.a_star import AStar\n",
    "from upt.utils.geo_utils import line_smoothing as lsp\n",
    "\n",
    "import matplotlib.pyplot as plt\n",
    "\n",
    "\n",
    "depok_obj = foi('Depok',crs=3857,zoom_level=17)\n",
    "depok_school = depok_obj.area_of_interest({'amenity':'school'})\n",
    "\n",
    "\n",
    "depok_star = AStar(depok_school,'area',crs=depok_school.crs)\n",
    "depok_path = depok_star.run_instance(3,1000)\n",
    "way_marker = depok_star.create_line()\n",
    "way_path = lsp(way_marker[:,0],way_marker[:,1],)\n",
    "\n",
    "ax = depok_school.plot(column=\"amenity school_area\",cmap='afmhot')\n",
    "plt.plot(way_path[:,0], way_path[:,1],color='blue')"
   ]
  },
  {
   "cell_type": "markdown",
   "metadata": {},
   "source": [
    "### Multiple Map Features Calls "
   ]
  },
  {
   "cell_type": "code",
   "execution_count": null,
   "metadata": {},
   "outputs": [],
   "source": [
    "from upt.preprocessor.features_of_interest import FeatureOfInterest as foi\n",
    "from upt.postprocessor.a_star import AStar\n",
    "from upt.utils.geo_utils import line_smoothing as lsp\n",
    "\n",
    "import matplotlib.pyplot as plt\n",
    "\n",
    "depok_obj = foi('Depok',crs=3857,zoom_level=17)\n",
    "feature_list = [{\"amenity\":\"school\"},{\"amenity\":\"cafe\"}]\n",
    "depok_school = depok_obj.mul_area_of_interest(feature_list)\n",
    "\n",
    "print(depok_school)"
   ]
  },
  {
   "cell_type": "markdown",
   "metadata": {},
   "source": [
    "### Offline Mode"
   ]
  },
  {
   "cell_type": "code",
   "execution_count": null,
   "metadata": {},
   "outputs": [],
   "source": [
    "from upt.preprocessor.features_of_interest import FeatureOfInterest as foi\n",
    "from upt.postprocessor.a_star import AStar\n",
    "from upt.utils.geo_utils import line_smoothing as lsp\n",
    "from upt.utils.file_handle import FileHandle\n",
    "\n",
    "import matplotlib.pyplot as plt\n",
    "\n",
    "fh = FileHandle(\"14525364_Depok\")\n",
    "depok_school = fh.load_gdf(\"Depok_calculated_amenity_school\",fh.feature_dir)\n",
    "\n",
    "depok_star = AStar(depok_school,'area',crs=depok_school.crs)\n",
    "depok_path = depok_star.run_instance(3,1000)\n",
    "way_marker = depok_star.create_line()\n",
    "way_path = lsp(way_marker[:,0],way_marker[:,1],)\n",
    "# print(way_marker)\n",
    "\n",
    "ax = depok_school.plot(column=\"amenity school_area\",cmap='afmhot')\n",
    "plt.plot(way_path[:,0], way_path[:,1],color='blue')"
   ]
  },
  {
   "cell_type": "markdown",
   "metadata": {},
   "source": [
    "### Geocode Capability"
   ]
  },
  {
   "cell_type": "code",
   "execution_count": null,
   "metadata": {},
   "outputs": [],
   "source": [
    "from upt.preprocessor.features_of_interest import FeatureOfInterest as foi\n",
    "from upt.postprocessor.a_star import AStar\n",
    "from upt.utils.geo_utils import line_smoothing as lsp\n",
    "\n",
    "import matplotlib.pyplot as plt\n",
    "\n",
    "\n",
    "depok_obj = foi('Depok',crs=3857,zoom_level=17)\n",
    "depok_school = depok_obj.area_of_interest({'amenity':'school'})\n",
    "\n",
    "\n",
    "depok_star = AStar(depok_school,'area',crs=depok_school.crs)\n",
    "depok_path = depok_star.run_instance(\"Tanah Baru Beji\",\"SMAN 2 Depok\")\n",
    "way_marker = depok_star.create_line()\n",
    "way_path = lsp(way_marker[:,0],way_marker[:,1],)\n",
    "\n",
    "ax = depok_school.plot(column=\"amenity school_area\",cmap='afmhot')\n",
    "plt.plot(way_path[:,0], way_path[:,1],color='blue')"
   ]
  },
  {
   "cell_type": "code",
   "execution_count": 10,
   "metadata": {},
   "outputs": [],
   "source": [
    "\n",
    "\n",
    "import numpy as np\n",
    "\n",
    "def vortex_lattice_method(gamma, x, y, vx, vy, steps):\n",
    "  # Calculate the strength of the vortex at each point\n",
    "  strength = gamma / (2 * np.pi)\n",
    "\n",
    "  # Create arrays to store the velocity at each time step\n",
    "  vx_history = [vx.copy()]\n",
    "  vy_history = [vy.copy()]\n",
    "\n",
    "  # Run the simulation for the specified number of steps\n",
    "  for i in range(steps):\n",
    "    # Calculate the velocity at each point at the next time step\n",
    "    next_vx = vx.copy()\n",
    "    next_vy = vy.copy()\n",
    "    for j in range(len(x)):\n",
    "      for k in range(len(x)):\n",
    "        if j != k:\n",
    "          r = np.sqrt((x[j] - x[k])**2 + (y[j] - y[k])**2)\n",
    "          next_vx[j] += strength[k] * (y[k] - y[j]) / (r**2)\n",
    "          next_vy[j] += strength[k] * (x[j] - x[k]) / (r**2)\n",
    "    vx = next_vx\n",
    "    vy = next_vy\n",
    "\n",
    "    # Save the velocity at each time step\n",
    "    vx_history.append(vx.copy())\n",
    "    vy_history.append(vy.copy())\n",
    "\n",
    "  return vx_history, vy_history\n",
    "\n",
    "# Set the initial positions and vortex strengths\n",
    "x = np.array([0, 1, 2, 0, 1, 2, 0, 1, 2])\n",
    "y = np.array([0, 0, 0, 1, 1, 1, 2, 2, 2])\n",
    "gamma = np.array([1, 1, 1, 1, 1, 1, 1, 1, 1])\n",
    "\n",
    "# Set the initial velocities\n",
    "vx = np.array([0, 0, 0, 0, 0, 0, 0, 0, 0])\n",
    "vy = np.array([0, 0, 0, 2, 3, 1, 0, 0, 0])"
   ]
  },
  {
   "cell_type": "code",
   "execution_count": 11,
   "metadata": {},
   "outputs": [],
   "source": [
    "ren = vortex_lattice_method(gamma, x, y, vx, vy, 10)"
   ]
  },
  {
   "cell_type": "raw",
   "metadata": {},
   "source": []
  },
  {
   "cell_type": "code",
   "execution_count": null,
   "metadata": {},
   "outputs": [],
   "source": []
  }
 ],
 "metadata": {
  "kernelspec": {
   "display_name": "Python 3 (ipykernel)",
   "language": "python",
   "name": "python3"
  },
  "language_info": {
   "codemirror_mode": {
    "name": "ipython",
    "version": 3
   },
   "file_extension": ".py",
   "mimetype": "text/x-python",
   "name": "python",
   "nbconvert_exporter": "python",
   "pygments_lexer": "ipython3",
   "version": "3.10.6 | packaged by conda-forge | (main, Aug 22 2022, 20:30:19) [MSC v.1929 64 bit (AMD64)]"
  },
  "vscode": {
   "interpreter": {
    "hash": "e1912d2232e61b75ce92d7aa23bc8b095093cccdcafbeb3fccfcdbfc6fd8fcc6"
   }
  }
 },
 "nbformat": 4,
 "nbformat_minor": 4
}
