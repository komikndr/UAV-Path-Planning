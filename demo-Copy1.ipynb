{
 "cells": [
  {
   "cell_type": "markdown",
   "metadata": {
    "tags": []
   },
   "source": [
    "# UPT DEMO"
   ]
  },
  {
   "cell_type": "code",
   "execution_count": 1,
   "metadata": {},
   "outputs": [],
   "source": [
    "import numpy as np\n",
    "import pandas as pd\n",
    "import geopandas as gpd\n",
    "from tesspy import Tessellation"
   ]
  },
  {
   "cell_type": "markdown",
   "metadata": {
    "tags": []
   },
   "source": [
    "## Crash Dynamic"
   ]
  },
  {
   "cell_type": "code",
   "execution_count": 3,
   "metadata": {},
   "outputs": [],
   "source": [
    "drone_profile={\n",
    "    'mass': 1,\n",
    "    'g': 9.81,\n",
    "    'cd': 0.02,\n",
    "    'cl': 0,\n",
    "    'flight_lv': 400\n",
    "    }\n"
   ]
  },
  {
   "cell_type": "code",
   "execution_count": 187,
   "metadata": {
    "tags": []
   },
   "outputs": [],
   "source": [
    "from pyproj import Proj\n",
    "import pandas as pd\n",
    "import geopandas as gpd\n",
    "import numpy as np\n",
    "\n",
    "#from . import ballistic_model, glide_model\n",
    "\n",
    "def ballistic_model(n_sampling, ac_profile):\n",
    "    sample_points = np.random.normal(15, 3, size=(n_sampling))\n",
    "    mass = ac_profile['mass']\n",
    "    g = ac_profile['g']\n",
    "    cd = ac_profile['cd']\n",
    "    flight_lv = ac_profile['flight_lv']\n",
    "    \n",
    "    gamma = np.sqrt(mass*g/cd)\n",
    "    log2 = np.log(2)\n",
    "    cd_z = cd*flight_lv\n",
    "    m_per_c = mass/cd\n",
    "    m_gamma = mass*gamma\n",
    "    \n",
    "    #Warning! Mathematically untested\n",
    "    def ballistic(v_sample):\n",
    "        point_list = []\n",
    "        for v in v_sample:\n",
    "            angle_degree = np.radians(np.random.uniform(0,360))\n",
    "            ballistic_x = m_per_c*np.log(1+(v*((mass*log2+cd_z)/(m_gamma))))\n",
    "            ballistic_y = m_per_c*np.log(1+(v*((mass*log2+cd_z)/(m_gamma))))\n",
    "            \n",
    "            radial_ballistic_func_x = lambda angle :ballistic_x*np.cos(angle)\n",
    "            radial_ballistic_func_y = lambda angle :ballistic_y*np.sin(angle)\n",
    "            x_point = radial_ballistic_func_x(angle_degree)\n",
    "            y_point = radial_ballistic_func_y(angle_degree)\n",
    "            point_list.append((x_point,y_point))\n",
    "        return (np.array(point_list))\n",
    "\n",
    "    crash_point = ballistic(sample_points)\n",
    "    crash_point = np.column_stack((crash_point))\n",
    "    return(crash_point)\n",
    "\n",
    "\n",
    "class base_impact_model:\n",
    "    def __init__(self, model, ac_profile, crs, n_sampling = 1000):\n",
    "        self.model_type = model\n",
    "        self.crs = crs\n",
    "        self.n_sampling = n_sampling\n",
    "        self.ac_profile = ac_profile\n",
    "        self.get_function()\n",
    "    \n",
    "    def get_function(self):\n",
    "        if self.model_type == \"ballistic\":\n",
    "            self.model_func = ballistic_model\n",
    "        if self.model_type == \"glide\":\n",
    "            pass\n",
    "    \n",
    "    def run_model(self):\n",
    "        self.impact_point = self.model_func(self.n_sampling, self.ac_profile)\n",
    "        self.binning()\n",
    "        self.array_to_gpd()\n",
    "        self.pd_to_gpd()\n",
    "        return(self.mask_gdf)\n",
    "    \n",
    "    def run_unbinned_model(self):\n",
    "        self.impact_point = self.model_func(self.n_sampling, self.ac_profile)\n",
    "        self.binning()\n",
    "        return(self.historgram )\n",
    "    \n",
    "    def binning(self):\n",
    "        bins = [np.linspace(self.impact_point.min(), self.impact_point.max(), 10), np.linspace(self.impact_point.min(), self.impact_point.max(), 10)]\n",
    "        histogram, x_bin, y_bin  = np.histogram2d(self.impact_point[0], self.impact_point[1], bins=bins)\n",
    "        self.historgram = histogram\n",
    "        \n",
    "        self.n_point_map = {}\n",
    "        self.locmap_map = {}\n",
    "        self.n_point_map.setdefault(\"N_points\", [])\n",
    "        self.locmap_map.setdefault(\"x_loc\", [])\n",
    "        self.locmap_map.setdefault(\"y_loc\", [])\n",
    "        for ith, _ in enumerate(histogram):\n",
    "            for jth, point in enumerate(histogram[ith]):\n",
    "                self.n_point_map['N_points'].append(point)\n",
    "                self.locmap_map['x_loc'].append(x_bin[ith])\n",
    "                self.locmap_map['y_loc'].append(y_bin[jth])\n",
    "                \n",
    "    def array_to_gpd(self):\n",
    "        self.n_point_df = pd.DataFrame(self.n_point_map)\n",
    "        self.locmap_df = pd.DataFrame(self.locmap_map)\n",
    "        self.mask_df = self.n_point_df.join(self.locmap_df)\n",
    "        \n",
    "    def pd_to_gpd(self):\n",
    "        self.mask_gdf = gpd.GeoDataFrame(self.mask_df.copy(), geometry=gpd.points_from_xy(self.mask_df['x_loc'], self.mask_df['y_loc']))\n",
    "        self.mask_gdf.drop(['x_loc','y_loc'], axis=1, inplace = True)\n",
    "\n",
    "        #Dividde N_point by sample size\n",
    "        self.mask_gdf['N_points'] = self.mask_gdf['N_points']/self.n_sampling\n",
    "        self.mask_gdf = self.mask_gdf.set_crs(self.crs)\n"
   ]
  },
  {
   "cell_type": "code",
   "execution_count": 198,
   "metadata": {},
   "outputs": [
    {
     "data": {
      "text/plain": [
       "<AxesSubplot: >"
      ]
     },
     "execution_count": 198,
     "metadata": {},
     "output_type": "execute_result"
    },
    {
     "data": {
      "image/png": "[encoded data removed]",
      "text/plain": [
       "<Figure size 640x480 with 1 Axes>"
      ]
     },
     "metadata": {},
     "output_type": "display_data"
    }
   ],
   "source": [
    "b = base_impact_model(\"ballistic\", drone_profile,depok_school.crs)\n",
    "gdf_mask = b.run_model()\n",
    "gdf_mask.plot()"
   ]
  },
  {
   "cell_type": "code",
   "execution_count": 194,
   "metadata": {},
   "outputs": [],
   "source": [
    "test_df = depok_school[depok_school['area']>1000]\n",
    "idx = np.arange(0,test_df.shape[0])"
   ]
  },
  {
   "cell_type": "code",
   "execution_count": 199,
   "metadata": {},
   "outputs": [],
   "source": [
    "def sjoin_calculator(array_index, mask, gdf):\n",
    "    def sjoin_risk_sum(array_index):\n",
    "        mask_translate = mask.copy()\n",
    "        mask_translate['geometry'] = mask.translate(gdf.iloc[array_index][0].centroid.x,gdf.iloc[array_index][0].centroid.y)\n",
    "        sjoin_gp = gpd.sjoin(gdf, mask_translate)\n",
    "        risk = sjoin_gp['N_points'].multiply(sjoin_gp['area']).sum()\n",
    "        return(risk)\n",
    "    \n",
    "    result_list = []\n",
    "    with concurrent.futures.ThreadPoolExecutor() as executor:\n",
    "        results = executor.map(sjoin_risk_sum, idx)\n",
    "    \n",
    "        for result in results:\n",
    "            result_list.append(result)\n",
    "\n",
    "    return(result_list)\n",
    "\n",
    "risk_calc = sjoin_risk(idx, gdf_mask, test_df)"
   ]
  },
  {
   "cell_type": "code",
   "execution_count": 112,
   "metadata": {},
   "outputs": [],
   "source": [
    "depok_school['risk']=result_list"
   ]
  },
  {
   "cell_type": "code",
   "execution_count": 82,
   "metadata": {},
   "outputs": [
    {
     "data": {
      "text/plain": [
       "<AxesSubplot: >"
      ]
     },
     "execution_count": 82,
     "metadata": {},
     "output_type": "execute_result"
    },
    {
     "data": {
      "image/png": "[encoded data removed]",
      "text/plain": [
       "<Figure size 1000x1000 with 1 Axes>"
      ]
     },
     "metadata": {},
     "output_type": "display_data"
    }
   ],
   "source": [
    "fig,ax = plt.subplots(figsize = (10,10)) \n",
    "depok_school.plot(ax=ax)\n",
    "gdf_mask.plot(ax=ax)"
   ]
  },
  {
   "cell_type": "code",
   "execution_count": 37,
   "metadata": {},
   "outputs": [
    {
     "data": {
      "text/plain": [
       "array([0.])"
      ]
     },
     "execution_count": 37,
     "metadata": {},
     "output_type": "execute_result"
    }
   ],
   "source": [
    "af['area'].unique()"
   ]
  },
  {
   "cell_type": "code",
   "execution_count": 29,
   "metadata": {},
   "outputs": [
    {
     "data": {
      "text/plain": [
       "(81, 6)"
      ]
     },
     "execution_count": 29,
     "metadata": {},
     "output_type": "execute_result"
    }
   ],
   "source": [
    "af.shape"
   ]
  },
  {
   "cell_type": "code",
   "execution_count": 25,
   "metadata": {},
   "outputs": [
    {
     "data": {
      "text/plain": [
       "array([nan])"
      ]
     },
     "execution_count": 25,
     "metadata": {},
     "output_type": "execute_result"
    }
   ],
   "source": [
    "af['N_points'].unique()"
   ]
  },
  {
   "cell_type": "code",
   "execution_count": null,
   "metadata": {},
   "outputs": [],
   "source": [
    "gdf_mask.plot()"
   ]
  },
  {
   "cell_type": "code",
   "execution_count": null,
   "metadata": {},
   "outputs": [],
   "source": [
    "depok_school.plot()"
   ]
  },
  {
   "cell_type": "code",
   "execution_count": null,
   "metadata": {},
   "outputs": [],
   "source": [
    "ax = depok_school.plot(markersize=.1, figsize=(12, 8), cmap='jet')\n",
    "gdf_mask.plot()\n",
    "plt.autoscale(False)"
   ]
  },
  {
   "cell_type": "code",
   "execution_count": null,
   "metadata": {},
   "outputs": [],
   "source": [
    "depok_school.centroid"
   ]
  },
  {
   "cell_type": "code",
   "execution_count": null,
   "metadata": {},
   "outputs": [],
   "source": [
    "ballistic_model.mask_df"
   ]
  },
  {
   "cell_type": "code",
   "execution_count": null,
   "metadata": {},
   "outputs": [],
   "source": [
    "a, b = p(gdf_mask.centroid.x, gdf_mask.centroid.y)"
   ]
  },
  {
   "cell_type": "code",
   "execution_count": null,
   "metadata": {},
   "outputs": [],
   "source": [
    "gdf_mask.plot(column=\"N_points\")"
   ]
  },
  {
   "cell_type": "code",
   "execution_count": null,
   "metadata": {},
   "outputs": [],
   "source": [
    "# ballistic_model = base_impact_model(\"ballistic\", drone_profile,depok_school.estimate_utm_crs())\n",
    "# gdf_mask = ballistic_model.mask_gdf\n",
    "gdf_mask.plot(column=\"N_points\")"
   ]
  },
  {
   "cell_type": "code",
   "execution_count": null,
   "metadata": {},
   "outputs": [],
   "source": [
    "gdf_mask"
   ]
  },
  {
   "cell_type": "code",
   "execution_count": null,
   "metadata": {},
   "outputs": [],
   "source": []
  },
  {
   "cell_type": "code",
   "execution_count": null,
   "metadata": {},
   "outputs": [],
   "source": [
    "drs"
   ]
  },
  {
   "cell_type": "code",
   "execution_count": null,
   "metadata": {},
   "outputs": [],
   "source": [
    "drs=depok_school.estimate_utm_crs().coordinate_operation"
   ]
  },
  {
   "cell_type": "code",
   "execution_count": null,
   "metadata": {},
   "outputs": [],
   "source": []
  },
  {
   "cell_type": "code",
   "execution_count": null,
   "metadata": {},
   "outputs": [],
   "source": [
    "def ballistic_model(n_sampling, ac_profile):\n",
    "    sample_points = np.random.normal(15, 3, size=(n_sampling))\n",
    "    mass = ac_profile['mass']\n",
    "    g = ac_profile['g']\n",
    "    cd = ac_profile['cd']\n",
    "    flight_lv = ac_profile['flight_lv']\n",
    "    \n",
    "    gamma = np.sqrt(mass*g/cd)\n",
    "    log2 = np.log(2)\n",
    "    cd_z = cd*flight_lv\n",
    "    m_per_c = mass/cd\n",
    "    m_gamma = mass*gamma\n",
    "    \n",
    "    #Warning! Mathematically untested\n",
    "    def ballistic(v_sample):\n",
    "        point_list = []\n",
    "        for v in v_sample:\n",
    "            angle_degree = np.radians(np.random.uniform(0,360))\n",
    "            ballistic_x = m_per_c*np.log(1+(v*((mass*log2+cd_z)/(m_gamma))))\n",
    "            ballistic_y = m_per_c*np.log(1+(v*((mass*log2+cd_z)/(m_gamma))))\n",
    "            \n",
    "            radial_ballistic_func_x = lambda angle :ballistic_x*np.cos(angle)\n",
    "            radial_ballistic_func_y = lambda angle :ballistic_y*np.sin(angle)\n",
    "            x_point = radial_ballistic_func_x(angle_degree)\n",
    "            y_point = radial_ballistic_func_y(angle_degree)\n",
    "            point_list.append((x_point,y_point))\n",
    "        return (np.array(point_list))\n",
    "\n",
    "    crash_point = ballistic(sample_points)\n",
    "    crash_point = np.column_stack((crash_point))\n",
    "    return(crash_point)"
   ]
  },
  {
   "cell_type": "code",
   "execution_count": null,
   "metadata": {},
   "outputs": [],
   "source": [
    "dist = ballistic_model(1000,aircraft_profile)"
   ]
  },
  {
   "cell_type": "code",
   "execution_count": null,
   "metadata": {},
   "outputs": [],
   "source": [
    "bins = [np.linspace(dist.min(), dist.max(), 10), np.linspace(dist.min(), dist.max(), 10)]\n",
    "histogram, x_bin, y_bin  = np.histogram2d(dist[0], dist[1], bins=bins)\n",
    "\n",
    "\n",
    "n_point_map = {}\n",
    "locmap_map = {}\n",
    "n_point_map.setdefault(\"N_points\", [])\n",
    "locmap_map.setdefault(\"x_loc\", [])\n",
    "locmap_map.setdefault(\"y_loc\", [])\n",
    "for ith, _ in enumerate(histogram):\n",
    "    for jth, point in enumerate(histogram[ith]):\n",
    "        n_point_map['N_points'].append(point)\n",
    "        locmap_map['x_loc'].append(x_bin[ith])\n",
    "        locmap_map['y_loc'].append(y_bin[jth])\n",
    "        "
   ]
  },
  {
   "cell_type": "code",
   "execution_count": null,
   "metadata": {},
   "outputs": [],
   "source": [
    "import pandas as pd\n",
    "\n",
    "n_point_df = pd.DataFrame(n_point_map)\n",
    "locmap_df = pd.DataFrame(locmap_map)\n",
    "mask_df = n_point_df.join(locmap_df)"
   ]
  },
  {
   "cell_type": "code",
   "execution_count": null,
   "metadata": {},
   "outputs": [],
   "source": [
    "from pyproj import Proj\n",
    "p = Proj(proj='utm',zone=48,ellps='WGS84', preserve_units=False)\n",
    "mask_df['x_loc'], mask_df['y_loc'] = p(mask_df['x_loc'], mask_df['y_loc'], inverse=True)"
   ]
  },
  {
   "cell_type": "code",
   "execution_count": null,
   "metadata": {},
   "outputs": [],
   "source": [
    "mask_df"
   ]
  },
  {
   "cell_type": "code",
   "execution_count": null,
   "metadata": {},
   "outputs": [],
   "source": [
    "import geopandas as gpd\n",
    "mask_gdf = gpd.GeoDataFrame(mask_df.copy(), geometry=gpd.points_from_xy(mask_df['x_loc'], mask_df['y_loc']))\n",
    "mask_gdf.drop(['x_loc','y_loc'], axis=1, inplace = True)\n",
    "\n",
    "#Dividde N_point by sample size\n",
    "mask_gdf['N_points'] = mask_gdf['N_points']/1000"
   ]
  },
  {
   "cell_type": "code",
   "execution_count": null,
   "metadata": {},
   "outputs": [],
   "source": [
    "mask_gdf.plot(column='N_points')"
   ]
  },
  {
   "cell_type": "code",
   "execution_count": null,
   "metadata": {},
   "outputs": [],
   "source": [
    "from matplotlib import pyplot as plt \n",
    "plt.scatter(dist[0],dist[1],s=1)"
   ]
  },
  {
   "cell_type": "markdown",
   "metadata": {},
   "source": [
    "### Basic Setup"
   ]
  },
  {
   "cell_type": "code",
   "execution_count": 6,
   "metadata": {
    "tags": []
   },
   "outputs": [
    {
     "name": "stdout",
     "output_type": "stream",
     "text": [
      "loaded\n",
      "loaded\n",
      "loaded gdf\n",
      "EPSG:3857\n"
     ]
    }
   ],
   "source": [
    "from upt.preprocessor.features_of_interest import FeatureOfInterest as foi\n",
    "from upt.postprocessor.a_star import AStar\n",
    "from upt.utils.geo_utils import line_smoothing as lsp\n",
    "\n",
    "import matplotlib.pyplot as plt\n",
    "\n",
    "\n",
    "depok_obj = foi('Depok',crs=\"EPSG:3857\",zoom_level=17)\n",
    "depok_school = depok_obj.area_of_interest({'amenity': 'restaurant'})\n",
    "\n",
    "\n",
    "depok_star = AStar(depok_school,'area',crs=depok_school.crs)\n",
    "depok_path = depok_star.run_instance(3,1000)\n",
    "way_marker = depok_star.create_line()\n",
    "way_path = lsp(way_marker[:,0],way_marker[:,1],)\n",
    "\n",
    "# ax = depok_school.plot(column=\"area\",cmap='plasma')\n",
    "# plt.plot(way_path[:,0], way_path[:,1],color='blue')"
   ]
  },
  {
   "cell_type": "code",
   "execution_count": 79,
   "metadata": {},
   "outputs": [
    {
     "data": {
      "text/plain": [
       "<Derived Projected CRS: EPSG:3857>\n",
       "Name: WGS 84 / Pseudo-Mercator\n",
       "Axis Info [cartesian]:\n",
       "- X[east]: Easting (metre)\n",
       "- Y[north]: Northing (metre)\n",
       "Area of Use:\n",
       "- name: World between 85.06°S and 85.06°N.\n",
       "- bounds: (-180.0, -85.06, 180.0, 85.06)\n",
       "Coordinate Operation:\n",
       "- name: Popular Visualisation Pseudo-Mercator\n",
       "- method: Popular Visualisation Pseudo Mercator\n",
       "Datum: World Geodetic System 1984 ensemble\n",
       "- Ellipsoid: WGS 84\n",
       "- Prime Meridian: Greenwich"
      ]
     },
     "execution_count": 79,
     "metadata": {},
     "output_type": "execute_result"
    }
   ],
   "source": [
    "depok_school.crs"
   ]
  },
  {
   "cell_type": "code",
   "execution_count": null,
   "metadata": {},
   "outputs": [],
   "source": []
  },
  {
   "cell_type": "code",
   "execution_count": null,
   "metadata": {},
   "outputs": [],
   "source": [
    "depok_school.plot()"
   ]
  },
  {
   "cell_type": "code",
   "execution_count": null,
   "metadata": {},
   "outputs": [],
   "source": [
    "zen = np.random.normal(15, 3, size=(1000,2))\n",
    "mass = 1\n",
    "g = 9.81\n",
    "c = 0.025\n",
    "flight_lv  = 400\n",
    "\n",
    "gamma = np.sqrt(mass*g/c)\n",
    "log2 = np.log(2)\n",
    "cy = c*flight_lv\n",
    "mperc = mass/c\n",
    "mgamma = mass*gamma\n",
    "def ballistic(vx):\n",
    "    x = mperc*np.log(1+(vx*((mass*log2+cy)/(mgamma))))\n",
    "    y = mperc*np.log(1+(vx*((mass*log2+cy)/(mgamma))))\n",
    "    return (y)\n",
    "                        \n",
    "vec_ball = np.vectorize(ballistic)\n",
    "x_dist = vec_ball(zen)\n",
    "plt.scatter(x_dist[0],x_dist[1])"
   ]
  },
  {
   "cell_type": "code",
   "execution_count": null,
   "metadata": {},
   "outputs": [],
   "source": [
    "from shapely.geometry import Point, Polygon, box\n",
    "from tesspy.tessellation_functions import get_squares_polyfill"
   ]
  },
  {
   "cell_type": "code",
   "execution_count": null,
   "metadata": {},
   "outputs": [],
   "source": [
    "p_list = list(map(lambda point:Point(point),x_dist))\n",
    "idx = np.arange(x_dist.shape[0])\n",
    "point_gpd = gpd.GeoDataFrame({'Name':idx,'geometry':p_list})"
   ]
  },
  {
   "cell_type": "code",
   "execution_count": null,
   "metadata": {},
   "outputs": [],
   "source": [
    "point_gpd.plot()"
   ]
  },
  {
   "cell_type": "code",
   "execution_count": null,
   "metadata": {},
   "outputs": [],
   "source": [
    "sqr_poly = box(*point_gpd.total_bounds)"
   ]
  },
  {
   "cell_type": "code",
   "execution_count": null,
   "metadata": {},
   "outputs": [],
   "source": [
    "sqr_poly"
   ]
  },
  {
   "cell_type": "code",
   "execution_count": null,
   "metadata": {},
   "outputs": [],
   "source": [
    "sqr_df = gpd.GeoDataFrame({'Name':[1],'geometry':sqr_poly})"
   ]
  },
  {
   "cell_type": "code",
   "execution_count": null,
   "metadata": {},
   "outputs": [],
   "source": [
    "sqr_tessel = get_squares_polyfill(sqr_df,21)"
   ]
  },
  {
   "cell_type": "code",
   "execution_count": null,
   "metadata": {},
   "outputs": [],
   "source": [
    "sqr_tessel.plot(lw=4,edgecolor='w')"
   ]
  },
  {
   "cell_type": "code",
   "execution_count": null,
   "metadata": {},
   "outputs": [],
   "source": [
    "sqr_tessel['id']=sqr_tessel.index\n",
    "data_merged = gpd.sjoin(area_overlay, sqr_tessel, how=\"inner\",predicate='within')\n",
    "area_df = data_merged.groupby('id')['idx'].agg('sum')\n",
    "final_gpd = pd.merge(square_grid, area_df, on='id', how='outer', indicator=False)"
   ]
  },
  {
   "cell_type": "code",
   "execution_count": null,
   "metadata": {},
   "outputs": [],
   "source": [
    "sqr_tessel['id']=sqr_tessel.index"
   ]
  },
  {
   "cell_type": "code",
   "execution_count": null,
   "metadata": {},
   "outputs": [],
   "source": [
    "sqr_tessel"
   ]
  },
  {
   "cell_type": "code",
   "execution_count": null,
   "metadata": {},
   "outputs": [],
   "source": [
    "del sqr_tessel['children_id']"
   ]
  },
  {
   "cell_type": "code",
   "execution_count": null,
   "metadata": {},
   "outputs": [],
   "source": [
    "point_gpd.crs is None"
   ]
  },
  {
   "cell_type": "code",
   "execution_count": null,
   "metadata": {},
   "outputs": [],
   "source": [
    "sqr_tessel.crs"
   ]
  },
  {
   "cell_type": "code",
   "execution_count": null,
   "metadata": {},
   "outputs": [],
   "source": [
    "point_gpd.crs"
   ]
  },
  {
   "cell_type": "code",
   "execution_count": null,
   "metadata": {},
   "outputs": [],
   "source": [
    "point_gpd.set_crs('EPSG:4326')"
   ]
  },
  {
   "cell_type": "code",
   "execution_count": null,
   "metadata": {},
   "outputs": [],
   "source": [
    "point_gpd = point_gpd.to_crs('epsg:4326')\n",
    "point_gpd.crs  "
   ]
  },
  {
   "cell_type": "code",
   "execution_count": null,
   "metadata": {},
   "outputs": [],
   "source": [
    "data_merged = gpd.sjoin(point_gpd, sqr_tessel, how=\"inner\",predicate='within')"
   ]
  },
  {
   "cell_type": "code",
   "execution_count": null,
   "metadata": {},
   "outputs": [],
   "source": [
    "data_merged"
   ]
  },
  {
   "cell_type": "code",
   "execution_count": null,
   "metadata": {},
   "outputs": [],
   "source": [
    "point_gpd.plot()"
   ]
  },
  {
   "cell_type": "code",
   "execution_count": null,
   "metadata": {},
   "outputs": [],
   "source": [
    "data_merged"
   ]
  },
  {
   "cell_type": "code",
   "execution_count": null,
   "metadata": {},
   "outputs": [],
   "source": [
    "area_df = data_merged.groupby('index_right').agg('sum')"
   ]
  },
  {
   "cell_type": "code",
   "execution_count": null,
   "metadata": {},
   "outputs": [],
   "source": [
    "sqr_tessel['id'] = sqr_tessel.index"
   ]
  },
  {
   "cell_type": "code",
   "execution_count": null,
   "metadata": {},
   "outputs": [],
   "source": [
    "final_gpd = pd.merge(sqr_tessel, area_df, on='id', how='outer', indicator=False)"
   ]
  },
  {
   "cell_type": "code",
   "execution_count": null,
   "metadata": {},
   "outputs": [],
   "source": [
    "area_df['id']=area_df.index"
   ]
  },
  {
   "cell_type": "code",
   "execution_count": null,
   "metadata": {},
   "outputs": [],
   "source": [
    "final_gpd.fillna(0,inplace=True)"
   ]
  },
  {
   "cell_type": "code",
   "execution_count": null,
   "metadata": {},
   "outputs": [],
   "source": [
    "final_gpd.plot(column='Name_right')"
   ]
  },
  {
   "cell_type": "code",
   "execution_count": null,
   "metadata": {},
   "outputs": [],
   "source": [
    "plt.plot(x_dist)"
   ]
  },
  {
   "cell_type": "code",
   "execution_count": null,
   "metadata": {},
   "outputs": [],
   "source": [
    "x_dist[1]"
   ]
  },
  {
   "cell_type": "code",
   "execution_count": null,
   "metadata": {},
   "outputs": [],
   "source": [
    "import numpy as np\n",
    "\n",
    "# Generate some random data\n",
    "points = np.random.rand(100, 2)\n",
    "\n",
    "# Define the bins for the histogram\n",
    "bins = [np.linspace(x_dist.min(), x_dist.max(), 10), np.linspace(x_dist.min(), x_dist.max(), 10)]\n",
    "\n",
    "# Use the histogram2d function to create the histogram\n",
    "histogram, a, b = np.histogram2d(x_dist[:,0], x_dist[:,1], bins=bins)\n",
    "\n",
    "# Print the histogram\n",
    "print(histogram)"
   ]
  },
  {
   "cell_type": "code",
   "execution_count": null,
   "metadata": {},
   "outputs": [],
   "source": [
    "b == a"
   ]
  },
  {
   "cell_type": "code",
   "execution_count": null,
   "metadata": {},
   "outputs": [],
   "source": [
    "r = histogram.flatten()"
   ]
  },
  {
   "cell_type": "code",
   "execution_count": null,
   "metadata": {},
   "outputs": [],
   "source": [
    "a[0]"
   ]
  },
  {
   "cell_type": "code",
   "execution_count": null,
   "metadata": {},
   "outputs": [],
   "source": [
    "d_map = {}\n",
    "p_map = {}\n",
    "d_map.setdefault(\"N_points\", [])\n",
    "p_map.setdefault(\"Lon\", [])\n",
    "p_map.setdefault(\"Lat\", [])\n",
    "for ith, o in enumerate(histogram):\n",
    "    for jth, k in enumerate(histogram[ith]):\n",
    "        d_map['N_points'].append(k)\n",
    "        p_map['Lon'].append(a[ith])\n",
    "        p_map['Lat'].append(b[jth])\n",
    "        "
   ]
  },
  {
   "cell_type": "code",
   "execution_count": null,
   "metadata": {},
   "outputs": [],
   "source": []
  },
  {
   "cell_type": "code",
   "execution_count": null,
   "metadata": {},
   "outputs": [],
   "source": [
    "histogram.shape"
   ]
  },
  {
   "cell_type": "code",
   "execution_count": null,
   "metadata": {},
   "outputs": [],
   "source": [
    "import pandas as pd\n",
    "p_dict = {'x':a,'y':b}\n",
    "p_df = pd.DataFrame(p_map)\n",
    "d_df = pd.DataFrame(d_map)\n",
    "n_join = p_df.join(d_df)"
   ]
  },
  {
   "cell_type": "code",
   "execution_count": null,
   "metadata": {},
   "outputs": [],
   "source": [
    "import geopandas as gpd\n",
    "gdf = gpd.GeoDataFrame(n_join, geometry=gpd.points_from_xy(n_join['Lon'], n_join['Lat']))"
   ]
  },
  {
   "cell_type": "code",
   "execution_count": null,
   "metadata": {},
   "outputs": [],
   "source": [
    "gdf['N_points'].unique()"
   ]
  },
  {
   "cell_type": "code",
   "execution_count": null,
   "metadata": {},
   "outputs": [],
   "source": [
    "gdf['N_points'] = gdf['N_points']/1000"
   ]
  },
  {
   "cell_type": "code",
   "execution_count": null,
   "metadata": {},
   "outputs": [],
   "source": [
    "gdf.plot(column='N_points')"
   ]
  },
  {
   "cell_type": "code",
   "execution_count": null,
   "metadata": {},
   "outputs": [],
   "source": [
    "from sklearn.preprocessing import normalize\n",
    "p_hist = histogram/1000"
   ]
  },
  {
   "cell_type": "code",
   "execution_count": null,
   "metadata": {},
   "outputs": [],
   "source": [
    "p_hist.max()"
   ]
  },
  {
   "cell_type": "code",
   "execution_count": null,
   "metadata": {},
   "outputs": [],
   "source": [
    "n_hist.max()"
   ]
  },
  {
   "cell_type": "code",
   "execution_count": null,
   "metadata": {},
   "outputs": [],
   "source": [
    "import numpy as np\n",
    "\n",
    "# Generate some random data\n",
    "points = np.random.rand(100, 2)\n",
    "\n",
    "# Define the bins for the histogram\n",
    "bins = [np.linspace(0, 1, 10), np.linspace(0, 1, 10)]\n",
    "\n",
    "# Use the histogram2d function to create the histogram\n",
    "histogram, _, _ = np.histogram2d(x_dist[:,0], x_dist[:,1], bins=bins)\n",
    "\n",
    "# Print the histogram\n",
    "print(histogram)"
   ]
  },
  {
   "cell_type": "code",
   "execution_count": null,
   "metadata": {},
   "outputs": [],
   "source": [
    "points.max()"
   ]
  },
  {
   "cell_type": "code",
   "execution_count": null,
   "metadata": {},
   "outputs": [],
   "source": [
    "points[:,0]"
   ]
  },
  {
   "cell_type": "code",
   "execution_count": null,
   "metadata": {},
   "outputs": [],
   "source": [
    "np.flip(histogram,axis=0)"
   ]
  },
  {
   "cell_type": "code",
   "execution_count": null,
   "metadata": {},
   "outputs": [],
   "source": [
    "from sklearn.preprocessing import normalize\n",
    "zel = normalize(histogram)"
   ]
  },
  {
   "cell_type": "code",
   "execution_count": null,
   "metadata": {},
   "outputs": [],
   "source": [
    "zel =histogram/histogram.max()"
   ]
  },
  {
   "cell_type": "code",
   "execution_count": null,
   "metadata": {},
   "outputs": [],
   "source": [
    "histogram.max()"
   ]
  },
  {
   "cell_type": "code",
   "execution_count": null,
   "metadata": {},
   "outputs": [],
   "source": [
    "zel"
   ]
  },
  {
   "cell_type": "code",
   "execution_count": null,
   "metadata": {},
   "outputs": [],
   "source": [
    "help(np.histogram2d)"
   ]
  },
  {
   "cell_type": "code",
   "execution_count": null,
   "metadata": {},
   "outputs": [],
   "source": [
    "histogram.mean()"
   ]
  },
  {
   "cell_type": "code",
   "execution_count": null,
   "metadata": {},
   "outputs": [],
   "source": [
    "x_dist.shape"
   ]
  },
  {
   "cell_type": "code",
   "execution_count": null,
   "metadata": {},
   "outputs": [],
   "source": [
    "point_gpd.total_bounds"
   ]
  },
  {
   "cell_type": "code",
   "execution_count": null,
   "metadata": {},
   "outputs": [],
   "source": [
    "x_dist[0].max()"
   ]
  },
  {
   "cell_type": "code",
   "execution_count": null,
   "metadata": {},
   "outputs": [],
   "source": [
    "import random\n",
    "\n",
    "# Define the bounds of the simulation\n",
    "x_min = 0\n",
    "x_max = 100\n",
    "y_min = 0\n",
    "y_max = 100\n",
    "\n",
    "# Number of iterations to run the simulation\n",
    "num_iterations = 100000\n",
    "\n",
    "# Counter to keep track of the number of points that fall within the region of interest\n",
    "count = 0\n",
    "\n",
    "# Run the simulation\n",
    "for i in range(num_iterations):\n",
    "  # Generate a random point within the bounds of the simulation\n",
    "  x = random.uniform(x_min, x_max)\n",
    "  y = random.uniform(y_min, y_max)\n",
    "\n",
    "  # Check if the point falls within the region of interest\n",
    "  if x**2 + y**2 <= 100:\n",
    "    count += 1\n",
    "\n",
    "# Calculate the probability that a randomly generated point falls within the region of interest\n",
    "probability = count / num_iterations\n",
    "print(probability)\n",
    "print(count)"
   ]
  },
  {
   "cell_type": "code",
   "execution_count": null,
   "metadata": {},
   "outputs": [],
   "source": []
  }
 ],
 "metadata": {
  "kernelspec": {
   "display_name": "Python 3 (ipykernel)",
   "language": "python",
   "name": "python3"
  },
  "language_info": {
   "codemirror_mode": {
    "name": "ipython",
    "version": 3
   },
   "file_extension": ".py",
   "mimetype": "text/x-python",
   "name": "python",
   "nbconvert_exporter": "python",
   "pygments_lexer": "ipython3",
   "version": "3.10.6"
  },
  "vscode": {
   "interpreter": {
    "hash": "e1912d2232e61b75ce92d7aa23bc8b095093cccdcafbeb3fccfcdbfc6fd8fcc6"
   }
  }
 },
 "nbformat": 4,
 "nbformat_minor": 4
}
