{
 "cells": [
  {
   "cell_type": "markdown",
   "metadata": {
    "tags": []
   },
   "source": [
    "# UPT DEMO"
   ]
  },
  {
   "cell_type": "code",
   "execution_count": 145,
   "metadata": {},
   "outputs": [],
   "source": [
    "import numpy as np\n",
    "import pandas as pd\n",
    "import geopandas as gpd\n",
    "from tesspy import Tessellation"
   ]
  },
  {
   "cell_type": "markdown",
   "metadata": {
    "tags": []
   },
   "source": [
    "## Crash Dynamic"
   ]
  },
  {
   "cell_type": "code",
   "execution_count": 234,
   "metadata": {},
   "outputs": [],
   "source": [
    "drone_profile={\n",
    "    'mass': 1,\n",
    "    'g': 9.81,\n",
    "    'cd': 0.02,\n",
    "    'cl': 0,\n",
    "    'flight_lv': 400\n",
    "    }\n"
   ]
  },
  {
   "cell_type": "code",
   "execution_count": 286,
   "metadata": {},
   "outputs": [],
   "source": [
    "from pyproj import Proj\n",
    "import pandas as pd\n",
    "import geopandas as gpd\n",
    "import numpy as np\n",
    "\n",
    "#from . import ballistic_model, glide_model\n",
    "\n",
    "class base_impact_model:\n",
    "    def __init__(self, model, ac_profile, crs, n_sampling = 1000):\n",
    "        self.model_type = model\n",
    "        self.crs = crs\n",
    "        self.n_sampling = n_sampling\n",
    "        self.ac_profile = ac_profile\n",
    "        self.model_func = self.get_function()\n",
    "    \n",
    "    def get_function(self):\n",
    "        crash_func={\n",
    "            \"ballistic\":ballistic_model,\n",
    "            \"glide\": None,\n",
    "        }\n",
    "        return(crash_func[self.model_type]) \n",
    "    \n",
    "    def run_model(self):\n",
    "        self.impact_point = self.model_func(self.n_sampling, self.ac_profile)\n",
    "        self.binning()\n",
    "        self.array_to_gpd()\n",
    "        self.meter_to_lonlat()\n",
    "        self.pd_to_gpd()\n",
    "        \n",
    "        return(self.mask_gdf)\n",
    "    \n",
    "    def run_unbinned_model(self):\n",
    "        self.impact_point = self.model_func(self.n_sampling, self.ac_profile)\n",
    "        self.binning()\n",
    "        return(self.historgram )\n",
    "    \n",
    "    def binning(self):\n",
    "        bins = [np.linspace(self.impact_point.min(), self.impact_point.max(), 10), np.linspace(self.impact_point.min(), self.impact_point.max(), 10)]\n",
    "        histogram, x_bin, y_bin  = np.histogram2d(self.impact_point[0], self.impact_point[1], bins=bins)\n",
    "        self.historgram = histogram\n",
    "        \n",
    "        self.n_point_map = {}\n",
    "        self.locmap_map = {}\n",
    "        self.n_point_map.setdefault(\"N_points\", [])\n",
    "        self.locmap_map.setdefault(\"x_loc\", [])\n",
    "        self.locmap_map.setdefault(\"y_loc\", [])\n",
    "        for ith, _ in enumerate(histogram):\n",
    "            for jth, point in enumerate(histogram[ith]):\n",
    "                self.n_point_map['N_points'].append(point)\n",
    "                self.locmap_map['x_loc'].append(x_bin[ith])\n",
    "                self.locmap_map['y_loc'].append(y_bin[jth])\n",
    "                \n",
    "    def array_to_gpd(self):\n",
    "        self.n_point_df = pd.DataFrame(self.n_point_map)\n",
    "        self.locmap_df = pd.DataFrame(self.locmap_map)\n",
    "        self.mask_df = self.n_point_df.join(self.locmap_df)\n",
    "        \n",
    "    def meter_to_lonlat(self):\n",
    "        p = Proj(projparams = self.crs, peserve_units=False)\n",
    "        self.mask_df['x_loc'], self.mask_df['y_loc'] = p(self.mask_df['x_loc'], self.mask_df['y_loc'], inverse=True)\n",
    "        \n",
    "    def pd_to_gpd(self):\n",
    "        self.mask_gdf = gpd.GeoDataFrame(self.mask_df.copy(), geometry=gpd.points_from_xy(self.mask_df['x_loc'], self.mask_df['y_loc']))\n",
    "        self.mask_gdf.drop(['x_loc','y_loc'], axis=1, inplace = True)\n",
    "\n",
    "        #Dividde N_point by sample size\n",
    "        self.mask_gdf['N_points'] = self.mask_gdf['N_points']/self.n_sampling\n"
   ]
  },
  {
   "cell_type": "code",
   "execution_count": 287,
   "metadata": {},
   "outputs": [],
   "source": [
    "ballistic_model = base_impact_model(\"ballistic\", drone_profile,depok_school.crs)"
   ]
  },
  {
   "cell_type": "code",
   "execution_count": 288,
   "metadata": {},
   "outputs": [],
   "source": [
    "gdf_mask_hist = ballistic_model.run_unbinned_model()"
   ]
  },
  {
   "cell_type": "code",
   "execution_count": 281,
   "metadata": {},
   "outputs": [
    {
     "name": "stdout",
     "output_type": "stream",
     "text": [
      "None\n"
     ]
    }
   ],
   "source": [
    "print(gdf_mask_hist)"
   ]
  },
  {
   "cell_type": "code",
   "execution_count": 267,
   "metadata": {},
   "outputs": [],
   "source": [
    "gdf_mask = ballistic_model.run_model()"
   ]
  },
  {
   "cell_type": "code",
   "execution_count": 272,
   "metadata": {},
   "outputs": [
    {
     "data": {
      "text/html": [
       "<div>\n",
       "<style scoped>\n",
       "    .dataframe tbody tr th:only-of-type {\n",
       "        vertical-align: middle;\n",
       "    }\n",
       "\n",
       "    .dataframe tbody tr th {\n",
       "        vertical-align: top;\n",
       "    }\n",
       "\n",
       "    .dataframe thead th {\n",
       "        text-align: right;\n",
       "    }\n",
       "</style>\n",
       "<table border=\"1\" class=\"dataframe\">\n",
       "  <thead>\n",
       "    <tr style=\"text-align: right;\">\n",
       "      <th></th>\n",
       "      <th>N_points</th>\n",
       "      <th>geometry</th>\n",
       "    </tr>\n",
       "  </thead>\n",
       "  <tbody>\n",
       "    <tr>\n",
       "      <th>0</th>\n",
       "      <td>0.000</td>\n",
       "      <td>POINT (-113.293 -113.293)</td>\n",
       "    </tr>\n",
       "    <tr>\n",
       "      <th>1</th>\n",
       "      <td>0.002</td>\n",
       "      <td>POINT (-113.293 -88.001)</td>\n",
       "    </tr>\n",
       "    <tr>\n",
       "      <th>2</th>\n",
       "      <td>0.010</td>\n",
       "      <td>POINT (-113.293 -62.709)</td>\n",
       "    </tr>\n",
       "    <tr>\n",
       "      <th>3</th>\n",
       "      <td>0.032</td>\n",
       "      <td>POINT (-113.293 -37.417)</td>\n",
       "    </tr>\n",
       "    <tr>\n",
       "      <th>4</th>\n",
       "      <td>0.025</td>\n",
       "      <td>POINT (-113.293 -12.125)</td>\n",
       "    </tr>\n",
       "    <tr>\n",
       "      <th>...</th>\n",
       "      <td>...</td>\n",
       "      <td>...</td>\n",
       "    </tr>\n",
       "    <tr>\n",
       "      <th>76</th>\n",
       "      <td>0.026</td>\n",
       "      <td>POINT (89.043 -12.125)</td>\n",
       "    </tr>\n",
       "    <tr>\n",
       "      <th>77</th>\n",
       "      <td>0.036</td>\n",
       "      <td>POINT (89.043 13.167)</td>\n",
       "    </tr>\n",
       "    <tr>\n",
       "      <th>78</th>\n",
       "      <td>0.007</td>\n",
       "      <td>POINT (89.043 38.459)</td>\n",
       "    </tr>\n",
       "    <tr>\n",
       "      <th>79</th>\n",
       "      <td>0.000</td>\n",
       "      <td>POINT (89.043 63.751)</td>\n",
       "    </tr>\n",
       "    <tr>\n",
       "      <th>80</th>\n",
       "      <td>0.000</td>\n",
       "      <td>POINT (89.043 89.043)</td>\n",
       "    </tr>\n",
       "  </tbody>\n",
       "</table>\n",
       "<p>81 rows × 2 columns</p>\n",
       "</div>"
      ],
      "text/plain": [
       "    N_points                   geometry\n",
       "0      0.000  POINT (-113.293 -113.293)\n",
       "1      0.002   POINT (-113.293 -88.001)\n",
       "2      0.010   POINT (-113.293 -62.709)\n",
       "3      0.032   POINT (-113.293 -37.417)\n",
       "4      0.025   POINT (-113.293 -12.125)\n",
       "..       ...                        ...\n",
       "76     0.026     POINT (89.043 -12.125)\n",
       "77     0.036      POINT (89.043 13.167)\n",
       "78     0.007      POINT (89.043 38.459)\n",
       "79     0.000      POINT (89.043 63.751)\n",
       "80     0.000      POINT (89.043 89.043)\n",
       "\n",
       "[81 rows x 2 columns]"
      ]
     },
     "execution_count": 272,
     "metadata": {},
     "output_type": "execute_result"
    }
   ],
   "source": [
    "gdf_mask"
   ]
  },
  {
   "cell_type": "code",
   "execution_count": 271,
   "metadata": {},
   "outputs": [
    {
     "data": {
      "text/plain": [
       "<AxesSubplot: >"
      ]
     },
     "execution_count": 271,
     "metadata": {},
     "output_type": "execute_result"
    },
    {
     "data": {
      "image/png": "[encoded data removed]",
      "text/plain": [
       "<Figure size 640x480 with 1 Axes>"
      ]
     },
     "metadata": {},
     "output_type": "display_data"
    }
   ],
   "source": [
    "gdf_mask.plot(column=\"N_points\")"
   ]
  },
  {
   "cell_type": "code",
   "execution_count": 285,
   "metadata": {},
   "outputs": [],
   "source": [
    "def ballistic_model(n_sampling, ac_profile):\n",
    "    sample_points = np.random.normal(15, 3, size=(n_sampling))\n",
    "    mass = ac_profile['mass']\n",
    "    g = ac_profile['g']\n",
    "    cd = ac_profile['cd']\n",
    "    flight_lv = ac_profile['flight_lv']\n",
    "    \n",
    "    gamma = np.sqrt(mass*g/cd)\n",
    "    log2 = np.log(2)\n",
    "    cd_z = cd*flight_lv\n",
    "    m_per_c = mass/cd\n",
    "    m_gamma = mass*gamma\n",
    "    \n",
    "    #Warning! Mathematically untested\n",
    "    def ballistic(v_sample):\n",
    "        point_list = []\n",
    "        for v in v_sample:\n",
    "            angle_degree = np.radians(np.random.uniform(0,360))\n",
    "            ballistic_x = m_per_c*np.log(1+(v*((mass*log2+cd_z)/(m_gamma))))\n",
    "            ballistic_y = m_per_c*np.log(1+(v*((mass*log2+cd_z)/(m_gamma))))\n",
    "            \n",
    "            radial_ballistic_func_x = lambda angle :ballistic_x*np.cos(angle)\n",
    "            radial_ballistic_func_y = lambda angle :ballistic_y*np.sin(angle)\n",
    "            x_point = radial_ballistic_func_x(angle_degree)\n",
    "            y_point = radial_ballistic_func_y(angle_degree)\n",
    "            point_list.append((x_point,y_point))\n",
    "        return (np.array(point_list))\n",
    "\n",
    "    crash_point = ballistic(sample_points)\n",
    "    crash_point = np.column_stack((crash_point))\n",
    "    return(crash_point)"
   ]
  },
  {
   "cell_type": "code",
   "execution_count": 214,
   "metadata": {},
   "outputs": [],
   "source": [
    "dist = ballistic_model(1000,aircraft_profile)"
   ]
  },
  {
   "cell_type": "code",
   "execution_count": 215,
   "metadata": {},
   "outputs": [],
   "source": [
    "bins = [np.linspace(dist.min(), dist.max(), 10), np.linspace(dist.min(), dist.max(), 10)]\n",
    "histogram, x_bin, y_bin  = np.histogram2d(dist[0], dist[1], bins=bins)\n",
    "\n",
    "\n",
    "n_point_map = {}\n",
    "locmap_map = {}\n",
    "n_point_map.setdefault(\"N_points\", [])\n",
    "locmap_map.setdefault(\"x_loc\", [])\n",
    "locmap_map.setdefault(\"y_loc\", [])\n",
    "for ith, _ in enumerate(histogram):\n",
    "    for jth, point in enumerate(histogram[ith]):\n",
    "        n_point_map['N_points'].append(point)\n",
    "        locmap_map['x_loc'].append(x_bin[ith])\n",
    "        locmap_map['y_loc'].append(y_bin[jth])\n",
    "        "
   ]
  },
  {
   "cell_type": "code",
   "execution_count": 216,
   "metadata": {},
   "outputs": [],
   "source": [
    "import pandas as pd\n",
    "\n",
    "n_point_df = pd.DataFrame(n_point_map)\n",
    "locmap_df = pd.DataFrame(locmap_map)\n",
    "mask_df = n_point_df.join(locmap_df)"
   ]
  },
  {
   "cell_type": "code",
   "execution_count": 217,
   "metadata": {},
   "outputs": [],
   "source": [
    "from pyproj import Proj\n",
    "p = Proj(proj='utm',zone=48,ellps='WGS84', preserve_units=False)\n",
    "mask_df['x_loc'], mask_df['y_loc'] = p(mask_df['x_loc'], mask_df['y_loc'], inverse=True)"
   ]
  },
  {
   "cell_type": "code",
   "execution_count": 225,
   "metadata": {},
   "outputs": [
    {
     "data": {
      "text/html": [
       "<div>\n",
       "<style scoped>\n",
       "    .dataframe tbody tr th:only-of-type {\n",
       "        vertical-align: middle;\n",
       "    }\n",
       "\n",
       "    .dataframe tbody tr th {\n",
       "        vertical-align: top;\n",
       "    }\n",
       "\n",
       "    .dataframe thead th {\n",
       "        text-align: right;\n",
       "    }\n",
       "</style>\n",
       "<table border=\"1\" class=\"dataframe\">\n",
       "  <thead>\n",
       "    <tr style=\"text-align: right;\">\n",
       "      <th></th>\n",
       "      <th>N_points</th>\n",
       "      <th>x_loc</th>\n",
       "      <th>y_loc</th>\n",
       "      <th>geometry</th>\n",
       "    </tr>\n",
       "  </thead>\n",
       "  <tbody>\n",
       "    <tr>\n",
       "      <th>0</th>\n",
       "      <td>0.0</td>\n",
       "      <td>100.510212</td>\n",
       "      <td>-0.001051</td>\n",
       "      <td>POINT (100.51021 -0.00105)</td>\n",
       "    </tr>\n",
       "    <tr>\n",
       "      <th>1</th>\n",
       "      <td>0.0</td>\n",
       "      <td>100.510212</td>\n",
       "      <td>-0.000817</td>\n",
       "      <td>POINT (100.51021 -0.00082)</td>\n",
       "    </tr>\n",
       "    <tr>\n",
       "      <th>2</th>\n",
       "      <td>8.0</td>\n",
       "      <td>100.510212</td>\n",
       "      <td>-0.000584</td>\n",
       "      <td>POINT (100.51021 -0.00058)</td>\n",
       "    </tr>\n",
       "    <tr>\n",
       "      <th>3</th>\n",
       "      <td>21.0</td>\n",
       "      <td>100.510212</td>\n",
       "      <td>-0.000350</td>\n",
       "      <td>POINT (100.51021 -0.00035)</td>\n",
       "    </tr>\n",
       "    <tr>\n",
       "      <th>4</th>\n",
       "      <td>34.0</td>\n",
       "      <td>100.510212</td>\n",
       "      <td>-0.000117</td>\n",
       "      <td>POINT (100.51021 -0.00012)</td>\n",
       "    </tr>\n",
       "    <tr>\n",
       "      <th>...</th>\n",
       "      <td>...</td>\n",
       "      <td>...</td>\n",
       "      <td>...</td>\n",
       "      <td>...</td>\n",
       "    </tr>\n",
       "    <tr>\n",
       "      <th>76</th>\n",
       "      <td>24.0</td>\n",
       "      <td>100.512068</td>\n",
       "      <td>-0.000117</td>\n",
       "      <td>POINT (100.51207 -0.00012)</td>\n",
       "    </tr>\n",
       "    <tr>\n",
       "      <th>77</th>\n",
       "      <td>24.0</td>\n",
       "      <td>100.512068</td>\n",
       "      <td>0.000117</td>\n",
       "      <td>POINT (100.51207 0.00012)</td>\n",
       "    </tr>\n",
       "    <tr>\n",
       "      <th>78</th>\n",
       "      <td>6.0</td>\n",
       "      <td>100.512068</td>\n",
       "      <td>0.000350</td>\n",
       "      <td>POINT (100.51207 0.00035)</td>\n",
       "    </tr>\n",
       "    <tr>\n",
       "      <th>79</th>\n",
       "      <td>0.0</td>\n",
       "      <td>100.512068</td>\n",
       "      <td>0.000584</td>\n",
       "      <td>POINT (100.51207 0.00058)</td>\n",
       "    </tr>\n",
       "    <tr>\n",
       "      <th>80</th>\n",
       "      <td>0.0</td>\n",
       "      <td>100.512068</td>\n",
       "      <td>0.000817</td>\n",
       "      <td>POINT (100.51207 0.00082)</td>\n",
       "    </tr>\n",
       "  </tbody>\n",
       "</table>\n",
       "<p>81 rows × 4 columns</p>\n",
       "</div>"
      ],
      "text/plain": [
       "    N_points       x_loc     y_loc                    geometry\n",
       "0        0.0  100.510212 -0.001051  POINT (100.51021 -0.00105)\n",
       "1        0.0  100.510212 -0.000817  POINT (100.51021 -0.00082)\n",
       "2        8.0  100.510212 -0.000584  POINT (100.51021 -0.00058)\n",
       "3       21.0  100.510212 -0.000350  POINT (100.51021 -0.00035)\n",
       "4       34.0  100.510212 -0.000117  POINT (100.51021 -0.00012)\n",
       "..       ...         ...       ...                         ...\n",
       "76      24.0  100.512068 -0.000117  POINT (100.51207 -0.00012)\n",
       "77      24.0  100.512068  0.000117   POINT (100.51207 0.00012)\n",
       "78       6.0  100.512068  0.000350   POINT (100.51207 0.00035)\n",
       "79       0.0  100.512068  0.000584   POINT (100.51207 0.00058)\n",
       "80       0.0  100.512068  0.000817   POINT (100.51207 0.00082)\n",
       "\n",
       "[81 rows x 4 columns]"
      ]
     },
     "execution_count": 225,
     "metadata": {},
     "output_type": "execute_result"
    }
   ],
   "source": [
    "mask_df"
   ]
  },
  {
   "cell_type": "code",
   "execution_count": 221,
   "metadata": {},
   "outputs": [],
   "source": [
    "import geopandas as gpd\n",
    "mask_gdf = gpd.GeoDataFrame(mask_df.copy(), geometry=gpd.points_from_xy(mask_df['x_loc'], mask_df['y_loc']))\n",
    "mask_gdf.drop(['x_loc','y_loc'], axis=1, inplace = True)\n",
    "\n",
    "#Dividde N_point by sample size\n",
    "mask_gdf['N_points'] = mask_gdf['N_points']/1000"
   ]
  },
  {
   "cell_type": "code",
   "execution_count": 224,
   "metadata": {},
   "outputs": [
    {
     "data": {
      "text/plain": [
       "<AxesSubplot: >"
      ]
     },
     "execution_count": 224,
     "metadata": {},
     "output_type": "execute_result"
    },
    {
     "data": {
      "image/png": "[encoded data removed]",
      "text/plain": [
       "<Figure size 640x480 with 1 Axes>"
      ]
     },
     "metadata": {},
     "output_type": "display_data"
    }
   ],
   "source": [
    "mask_gdf.plot(column='N_points')"
   ]
  },
  {
   "cell_type": "code",
   "execution_count": 157,
   "metadata": {},
   "outputs": [
    {
     "data": {
      "text/plain": [
       "<matplotlib.collections.PathCollection at 0x23ca5ceb220>"
      ]
     },
     "execution_count": 157,
     "metadata": {},
     "output_type": "execute_result"
    },
    {
     "data": {
      "image/png": "[encoded data removed]",
      "text/plain": [
       "<Figure size 640x480 with 1 Axes>"
      ]
     },
     "metadata": {},
     "output_type": "display_data"
    }
   ],
   "source": [
    "from matplotlib import pyplot as plt \n",
    "plt.scatter(dist[0],dist[1],s=1)"
   ]
  },
  {
   "cell_type": "markdown",
   "metadata": {},
   "source": [
    "### Basic Setup"
   ]
  },
  {
   "cell_type": "code",
   "execution_count": 230,
   "metadata": {
    "tags": []
   },
   "outputs": [
    {
     "name": "stdout",
     "output_type": "stream",
     "text": [
      "loaded\n",
      "loaded\n",
      "loaded gdf\n"
     ]
    },
    {
     "name": "stderr",
     "output_type": "stream",
     "text": [
      "D:\\TUGAS SEKOLAH\\College\\Smst 7, Odd 2023\\UAV PATH PLANNER\\upt\\postprocessor\\a_star.py:31: UserWarning: Geometry is in a geographic CRS. Results from 'centroid' are likely incorrect. Use 'GeoSeries.to_crs()' to re-project geometries to a projected CRS before this operation.\n",
      "\n",
      "  self.centroids = np.column_stack((gdf.to_crs(self.crs).centroid.x, gdf.to_crs(self.crs).centroid.y))\n",
      "D:\\TUGAS SEKOLAH\\College\\Smst 7, Odd 2023\\UAV PATH PLANNER\\upt\\postprocessor\\a_star.py:31: UserWarning: Geometry is in a geographic CRS. Results from 'centroid' are likely incorrect. Use 'GeoSeries.to_crs()' to re-project geometries to a projected CRS before this operation.\n",
      "\n",
      "  self.centroids = np.column_stack((gdf.to_crs(self.crs).centroid.x, gdf.to_crs(self.crs).centroid.y))\n"
     ]
    },
    {
     "data": {
      "text/plain": [
       "[<matplotlib.lines.Line2D at 0x25c7ef69420>]"
      ]
     },
     "execution_count": 230,
     "metadata": {},
     "output_type": "execute_result"
    },
    {
     "data": {
      "image/png": "[encoded data removed]",
      "text/plain": [
       "<Figure size 640x480 with 1 Axes>"
      ]
     },
     "metadata": {},
     "output_type": "display_data"
    }
   ],
   "source": [
    "from upt.preprocessor.features_of_interest import FeatureOfInterest as foi\n",
    "from upt.postprocessor.a_star import AStar\n",
    "from upt.utils.geo_utils import line_smoothing as lsp\n",
    "\n",
    "import matplotlib.pyplot as plt\n",
    "\n",
    "\n",
    "depok_obj = foi('Depok',crs=3857,zoom_level=17)\n",
    "depok_school = depok_obj.area_of_interest({'amenity':'school'})\n",
    "\n",
    "\n",
    "depok_star = AStar(depok_school,'area',crs=depok_school.crs)\n",
    "depok_path = depok_star.run_instance(3,1000)\n",
    "way_marker = depok_star.create_line()\n",
    "way_path = lsp(way_marker[:,0],way_marker[:,1],)\n",
    "\n",
    "ax = depok_school.plot(column=\"area\",cmap='plasma')\n",
    "plt.plot(way_path[:,0], way_path[:,1],color='blue')"
   ]
  },
  {
   "cell_type": "code",
   "execution_count": 231,
   "metadata": {},
   "outputs": [
    {
     "data": {
      "text/plain": [
       "<Geographic 2D CRS: EPSG:4326>\n",
       "Name: WGS 84\n",
       "Axis Info [ellipsoidal]:\n",
       "- Lat[north]: Geodetic latitude (degree)\n",
       "- Lon[east]: Geodetic longitude (degree)\n",
       "Area of Use:\n",
       "- name: World.\n",
       "- bounds: (-180.0, -90.0, 180.0, 90.0)\n",
       "Datum: World Geodetic System 1984 ensemble\n",
       "- Ellipsoid: WGS 84\n",
       "- Prime Meridian: Greenwich"
      ]
     },
     "execution_count": 231,
     "metadata": {},
     "output_type": "execute_result"
    }
   ],
   "source": []
  },
  {
   "cell_type": "code",
   "execution_count": 28,
   "metadata": {},
   "outputs": [
    {
     "data": {
      "text/plain": [
       "<AxesSubplot: >"
      ]
     },
     "execution_count": 28,
     "metadata": {},
     "output_type": "execute_result"
    },
    {
     "data": {
      "image/png": "[encoded data removed]",
      "text/plain": [
       "<Figure size 640x480 with 1 Axes>"
      ]
     },
     "metadata": {},
     "output_type": "display_data"
    }
   ],
   "source": [
    "depok_school.plot()"
   ]
  },
  {
   "cell_type": "code",
   "execution_count": 3,
   "metadata": {},
   "outputs": [
    {
     "ename": "NameError",
     "evalue": "name 'plt' is not defined",
     "output_type": "error",
     "traceback": [
      "\u001b[1;31m---------------------------------------------------------------------------\u001b[0m",
      "\u001b[1;31mNameError\u001b[0m                                 Traceback (most recent call last)",
      "Cell \u001b[1;32mIn [3], line 19\u001b[0m\n\u001b[0;32m     17\u001b[0m vec_ball \u001b[38;5;241m=\u001b[39m np\u001b[38;5;241m.\u001b[39mvectorize(ballistic)\n\u001b[0;32m     18\u001b[0m x_dist \u001b[38;5;241m=\u001b[39m vec_ball(zen)\n\u001b[1;32m---> 19\u001b[0m \u001b[43mplt\u001b[49m\u001b[38;5;241m.\u001b[39mscatter(x_dist[\u001b[38;5;241m0\u001b[39m],x_dist[\u001b[38;5;241m1\u001b[39m])\n",
      "\u001b[1;31mNameError\u001b[0m: name 'plt' is not defined"
     ]
    }
   ],
   "source": [
    "zen = np.random.normal(15, 3, size=(1000,2))\n",
    "mass = 1\n",
    "g = 9.81\n",
    "c = 0.025\n",
    "flight_lv  = 400\n",
    "\n",
    "gamma = np.sqrt(mass*g/c)\n",
    "log2 = np.log(2)\n",
    "cy = c*flight_lv\n",
    "mperc = mass/c\n",
    "mgamma = mass*gamma\n",
    "def ballistic(vx):\n",
    "    x = mperc*np.log(1+(vx*((mass*log2+cy)/(mgamma))))\n",
    "    y = mperc*np.log(1+(vx*((mass*log2+cy)/(mgamma))))\n",
    "    return (y)\n",
    "                        \n",
    "vec_ball = np.vectorize(ballistic)\n",
    "x_dist = vec_ball(zen)\n",
    "plt.scatter(x_dist[0],x_dist[1])"
   ]
  },
  {
   "cell_type": "code",
   "execution_count": 120,
   "metadata": {},
   "outputs": [],
   "source": [
    "from shapely.geometry import Point, Polygon, box\n",
    "from tesspy.tessellation_functions import get_squares_polyfill"
   ]
  },
  {
   "cell_type": "code",
   "execution_count": 84,
   "metadata": {},
   "outputs": [],
   "source": [
    "p_list = list(map(lambda point:Point(point),x_dist))\n",
    "idx = np.arange(x_dist.shape[0])\n",
    "point_gpd = gpd.GeoDataFrame({'Name':idx,'geometry':p_list})"
   ]
  },
  {
   "cell_type": "code",
   "execution_count": 100,
   "metadata": {},
   "outputs": [
    {
     "data": {
      "text/plain": [
       "<AxesSubplot: >"
      ]
     },
     "execution_count": 100,
     "metadata": {},
     "output_type": "execute_result"
    },
    {
     "data": {
      "image/png": "[encoded data removed]",
      "text/plain": [
       "<Figure size 640x480 with 1 Axes>"
      ]
     },
     "metadata": {},
     "output_type": "display_data"
    }
   ],
   "source": [
    "point_gpd.plot()"
   ]
  },
  {
   "cell_type": "code",
   "execution_count": 200,
   "metadata": {},
   "outputs": [],
   "source": [
    "sqr_poly = box(*point_gpd.total_bounds)"
   ]
  },
  {
   "cell_type": "code",
   "execution_count": 201,
   "metadata": {},
   "outputs": [
    {
     "data": {
      "image/svg+xml": [
       "<svg xmlns=\"http://www.w3.org/2000/svg\" xmlns:xlink=\"http://www.w3.org/1999/xlink\" width=\"100.0\" height=\"100.0\" viewBox=\"0.0004683704037864376 0.0004525499846821848 0.0005156142216658049 0.0005314433980767798\" preserveAspectRatio=\"xMinYMin meet\"><g transform=\"matrix(1,0,0,-1,0,0.0014365433674411493)\"><path fill-rule=\"evenodd\" fill=\"#66cc99\" stroke=\"#555555\" stroke-width=\"1.0628867961535597e-05\" opacity=\"0.6\" d=\"M 0.0009643015366345841,0.0004722330734998433 L 0.0009643015366345841,0.0009643102939413061 L 0.00048805349260409614,0.0009643102939413061 L 0.00048805349260409614,0.0004722330734998433 L 0.0009643015366345841,0.0004722330734998433 z\" /></g></svg>"
      ],
      "text/plain": [
       "<shapely.geometry.polygon.Polygon at 0x12389ab5690>"
      ]
     },
     "execution_count": 201,
     "metadata": {},
     "output_type": "execute_result"
    }
   ],
   "source": [
    "sqr_poly"
   ]
  },
  {
   "cell_type": "code",
   "execution_count": 202,
   "metadata": {},
   "outputs": [],
   "source": [
    "sqr_df = gpd.GeoDataFrame({'Name':[1],'geometry':sqr_poly})"
   ]
  },
  {
   "cell_type": "code",
   "execution_count": 215,
   "metadata": {},
   "outputs": [],
   "source": [
    "sqr_tessel = get_squares_polyfill(sqr_df,21)"
   ]
  },
  {
   "cell_type": "code",
   "execution_count": 216,
   "metadata": {},
   "outputs": [
    {
     "data": {
      "text/plain": [
       "<AxesSubplot: >"
      ]
     },
     "execution_count": 216,
     "metadata": {},
     "output_type": "execute_result"
    },
    {
     "data": {
      "image/png": "[encoded data removed]",
      "text/plain": [
       "<Figure size 640x480 with 1 Axes>"
      ]
     },
     "metadata": {},
     "output_type": "display_data"
    }
   ],
   "source": [
    "sqr_tessel.plot(lw=4,edgecolor='w')"
   ]
  },
  {
   "cell_type": "code",
   "execution_count": 149,
   "metadata": {},
   "outputs": [
    {
     "ename": "NameError",
     "evalue": "name 'square_grid' is not defined",
     "output_type": "error",
     "traceback": [
      "\u001b[1;31m---------------------------------------------------------------------------\u001b[0m",
      "\u001b[1;31mNameError\u001b[0m                                 Traceback (most recent call last)",
      "Cell \u001b[1;32mIn [149], line 1\u001b[0m\n\u001b[1;32m----> 1\u001b[0m square_grid[\u001b[38;5;124m'\u001b[39m\u001b[38;5;124mid\u001b[39m\u001b[38;5;124m'\u001b[39m]\u001b[38;5;241m=\u001b[39m\u001b[43msquare_grid\u001b[49m\u001b[38;5;241m.\u001b[39mindex\n\u001b[0;32m      2\u001b[0m data_merged \u001b[38;5;241m=\u001b[39m gpd\u001b[38;5;241m.\u001b[39msjoin(area_overlay, square_grid, how\u001b[38;5;241m=\u001b[39m\u001b[38;5;124m\"\u001b[39m\u001b[38;5;124minner\u001b[39m\u001b[38;5;124m\"\u001b[39m,predicate\u001b[38;5;241m=\u001b[39m\u001b[38;5;124m'\u001b[39m\u001b[38;5;124mwithin\u001b[39m\u001b[38;5;124m'\u001b[39m)\n\u001b[0;32m      3\u001b[0m area_df \u001b[38;5;241m=\u001b[39m data_merged\u001b[38;5;241m.\u001b[39mgroupby(\u001b[38;5;124m'\u001b[39m\u001b[38;5;124mid\u001b[39m\u001b[38;5;124m'\u001b[39m)[\u001b[38;5;124m'\u001b[39m\u001b[38;5;124midx\u001b[39m\u001b[38;5;124m'\u001b[39m]\u001b[38;5;241m.\u001b[39magg(\u001b[38;5;124m'\u001b[39m\u001b[38;5;124msum\u001b[39m\u001b[38;5;124m'\u001b[39m)\n",
      "\u001b[1;31mNameError\u001b[0m: name 'square_grid' is not defined"
     ]
    }
   ],
   "source": [
    "sqr_tessel['id']=sqr_tessel.index\n",
    "data_merged = gpd.sjoin(area_overlay, sqr_tessel, how=\"inner\",predicate='within')\n",
    "area_df = data_merged.groupby('id')['idx'].agg('sum')\n",
    "final_gpd = pd.merge(square_grid, area_df, on='id', how='outer', indicator=False)"
   ]
  },
  {
   "cell_type": "code",
   "execution_count": 150,
   "metadata": {},
   "outputs": [],
   "source": [
    "sqr_tessel['id']=sqr_tessel.index"
   ]
  },
  {
   "cell_type": "code",
   "execution_count": 165,
   "metadata": {},
   "outputs": [
    {
     "data": {
      "text/html": [
       "<div>\n",
       "<style scoped>\n",
       "    .dataframe tbody tr th:only-of-type {\n",
       "        vertical-align: middle;\n",
       "    }\n",
       "\n",
       "    .dataframe tbody tr th {\n",
       "        vertical-align: top;\n",
       "    }\n",
       "\n",
       "    .dataframe thead th {\n",
       "        text-align: right;\n",
       "    }\n",
       "</style>\n",
       "<table border=\"1\" class=\"dataframe\">\n",
       "  <thead>\n",
       "    <tr style=\"text-align: right;\">\n",
       "      <th></th>\n",
       "      <th>geometry</th>\n",
       "      <th>quadkey</th>\n",
       "      <th>id</th>\n",
       "    </tr>\n",
       "  </thead>\n",
       "  <tbody>\n",
       "    <tr>\n",
       "      <th>0</th>\n",
       "      <td>POLYGON ((67.50000 82.67628, 67.50000 85.05113...</td>\n",
       "      <td>1010</td>\n",
       "      <td>0</td>\n",
       "    </tr>\n",
       "    <tr>\n",
       "      <th>1</th>\n",
       "      <td>POLYGON ((67.50000 79.17133, 67.50000 82.67628...</td>\n",
       "      <td>1012</td>\n",
       "      <td>1</td>\n",
       "    </tr>\n",
       "    <tr>\n",
       "      <th>2</th>\n",
       "      <td>POLYGON ((67.50000 74.01954, 67.50000 79.17133...</td>\n",
       "      <td>1030</td>\n",
       "      <td>2</td>\n",
       "    </tr>\n",
       "    <tr>\n",
       "      <th>3</th>\n",
       "      <td>POLYGON ((67.50000 66.51326, 67.50000 74.01954...</td>\n",
       "      <td>1032</td>\n",
       "      <td>3</td>\n",
       "    </tr>\n",
       "    <tr>\n",
       "      <th>4</th>\n",
       "      <td>POLYGON ((67.50000 55.77657, 67.50000 66.51326...</td>\n",
       "      <td>1210</td>\n",
       "      <td>4</td>\n",
       "    </tr>\n",
       "    <tr>\n",
       "      <th>5</th>\n",
       "      <td>POLYGON ((67.50000 40.97990, 67.50000 55.77657...</td>\n",
       "      <td>1212</td>\n",
       "      <td>5</td>\n",
       "    </tr>\n",
       "    <tr>\n",
       "      <th>6</th>\n",
       "      <td>POLYGON ((90.00000 82.67628, 90.00000 85.05113...</td>\n",
       "      <td>1011</td>\n",
       "      <td>6</td>\n",
       "    </tr>\n",
       "    <tr>\n",
       "      <th>7</th>\n",
       "      <td>POLYGON ((90.00000 79.17133, 90.00000 82.67628...</td>\n",
       "      <td>1013</td>\n",
       "      <td>7</td>\n",
       "    </tr>\n",
       "    <tr>\n",
       "      <th>8</th>\n",
       "      <td>POLYGON ((90.00000 74.01954, 90.00000 79.17133...</td>\n",
       "      <td>1031</td>\n",
       "      <td>8</td>\n",
       "    </tr>\n",
       "    <tr>\n",
       "      <th>9</th>\n",
       "      <td>POLYGON ((90.00000 66.51326, 90.00000 74.01954...</td>\n",
       "      <td>1033</td>\n",
       "      <td>9</td>\n",
       "    </tr>\n",
       "    <tr>\n",
       "      <th>10</th>\n",
       "      <td>POLYGON ((90.00000 55.77657, 90.00000 66.51326...</td>\n",
       "      <td>1211</td>\n",
       "      <td>10</td>\n",
       "    </tr>\n",
       "    <tr>\n",
       "      <th>11</th>\n",
       "      <td>POLYGON ((90.00000 40.97990, 90.00000 55.77657...</td>\n",
       "      <td>1213</td>\n",
       "      <td>11</td>\n",
       "    </tr>\n",
       "    <tr>\n",
       "      <th>12</th>\n",
       "      <td>POLYGON ((112.50000 82.67628, 112.50000 85.051...</td>\n",
       "      <td>1100</td>\n",
       "      <td>12</td>\n",
       "    </tr>\n",
       "    <tr>\n",
       "      <th>13</th>\n",
       "      <td>POLYGON ((112.50000 79.17133, 112.50000 82.676...</td>\n",
       "      <td>1102</td>\n",
       "      <td>13</td>\n",
       "    </tr>\n",
       "    <tr>\n",
       "      <th>14</th>\n",
       "      <td>POLYGON ((112.50000 74.01954, 112.50000 79.171...</td>\n",
       "      <td>1120</td>\n",
       "      <td>14</td>\n",
       "    </tr>\n",
       "    <tr>\n",
       "      <th>15</th>\n",
       "      <td>POLYGON ((112.50000 66.51326, 112.50000 74.019...</td>\n",
       "      <td>1122</td>\n",
       "      <td>15</td>\n",
       "    </tr>\n",
       "    <tr>\n",
       "      <th>16</th>\n",
       "      <td>POLYGON ((112.50000 55.77657, 112.50000 66.513...</td>\n",
       "      <td>1300</td>\n",
       "      <td>16</td>\n",
       "    </tr>\n",
       "    <tr>\n",
       "      <th>17</th>\n",
       "      <td>POLYGON ((112.50000 40.97990, 112.50000 55.776...</td>\n",
       "      <td>1302</td>\n",
       "      <td>17</td>\n",
       "    </tr>\n",
       "  </tbody>\n",
       "</table>\n",
       "</div>"
      ],
      "text/plain": [
       "                                             geometry quadkey  id\n",
       "0   POLYGON ((67.50000 82.67628, 67.50000 85.05113...    1010   0\n",
       "1   POLYGON ((67.50000 79.17133, 67.50000 82.67628...    1012   1\n",
       "2   POLYGON ((67.50000 74.01954, 67.50000 79.17133...    1030   2\n",
       "3   POLYGON ((67.50000 66.51326, 67.50000 74.01954...    1032   3\n",
       "4   POLYGON ((67.50000 55.77657, 67.50000 66.51326...    1210   4\n",
       "5   POLYGON ((67.50000 40.97990, 67.50000 55.77657...    1212   5\n",
       "6   POLYGON ((90.00000 82.67628, 90.00000 85.05113...    1011   6\n",
       "7   POLYGON ((90.00000 79.17133, 90.00000 82.67628...    1013   7\n",
       "8   POLYGON ((90.00000 74.01954, 90.00000 79.17133...    1031   8\n",
       "9   POLYGON ((90.00000 66.51326, 90.00000 74.01954...    1033   9\n",
       "10  POLYGON ((90.00000 55.77657, 90.00000 66.51326...    1211  10\n",
       "11  POLYGON ((90.00000 40.97990, 90.00000 55.77657...    1213  11\n",
       "12  POLYGON ((112.50000 82.67628, 112.50000 85.051...    1100  12\n",
       "13  POLYGON ((112.50000 79.17133, 112.50000 82.676...    1102  13\n",
       "14  POLYGON ((112.50000 74.01954, 112.50000 79.171...    1120  14\n",
       "15  POLYGON ((112.50000 66.51326, 112.50000 74.019...    1122  15\n",
       "16  POLYGON ((112.50000 55.77657, 112.50000 66.513...    1300  16\n",
       "17  POLYGON ((112.50000 40.97990, 112.50000 55.776...    1302  17"
      ]
     },
     "execution_count": 165,
     "metadata": {},
     "output_type": "execute_result"
    }
   ],
   "source": [
    "sqr_tessel"
   ]
  },
  {
   "cell_type": "code",
   "execution_count": 156,
   "metadata": {},
   "outputs": [],
   "source": [
    "del sqr_tessel['children_id']"
   ]
  },
  {
   "cell_type": "code",
   "execution_count": 182,
   "metadata": {},
   "outputs": [
    {
     "data": {
      "text/plain": [
       "True"
      ]
     },
     "execution_count": 182,
     "metadata": {},
     "output_type": "execute_result"
    }
   ],
   "source": [
    "point_gpd.crs is None"
   ]
  },
  {
   "cell_type": "code",
   "execution_count": 183,
   "metadata": {},
   "outputs": [
    {
     "data": {
      "text/plain": [
       "<Geographic 2D CRS: EPSG:4326>\n",
       "Name: WGS 84\n",
       "Axis Info [ellipsoidal]:\n",
       "- Lat[north]: Geodetic latitude (degree)\n",
       "- Lon[east]: Geodetic longitude (degree)\n",
       "Area of Use:\n",
       "- name: World.\n",
       "- bounds: (-180.0, -90.0, 180.0, 90.0)\n",
       "Datum: World Geodetic System 1984 ensemble\n",
       "- Ellipsoid: WGS 84\n",
       "- Prime Meridian: Greenwich"
      ]
     },
     "execution_count": 183,
     "metadata": {},
     "output_type": "execute_result"
    }
   ],
   "source": [
    "sqr_tessel.crs"
   ]
  },
  {
   "cell_type": "code",
   "execution_count": 186,
   "metadata": {},
   "outputs": [],
   "source": [
    "point_gpd.crs"
   ]
  },
  {
   "cell_type": "code",
   "execution_count": 185,
   "metadata": {},
   "outputs": [
    {
     "data": {
      "text/html": [
       "<div>\n",
       "<style scoped>\n",
       "    .dataframe tbody tr th:only-of-type {\n",
       "        vertical-align: middle;\n",
       "    }\n",
       "\n",
       "    .dataframe tbody tr th {\n",
       "        vertical-align: top;\n",
       "    }\n",
       "\n",
       "    .dataframe thead th {\n",
       "        text-align: right;\n",
       "    }\n",
       "</style>\n",
       "<table border=\"1\" class=\"dataframe\">\n",
       "  <thead>\n",
       "    <tr style=\"text-align: right;\">\n",
       "      <th></th>\n",
       "      <th>Name</th>\n",
       "      <th>geometry</th>\n",
       "    </tr>\n",
       "  </thead>\n",
       "  <tbody>\n",
       "    <tr>\n",
       "      <th>0</th>\n",
       "      <td>0</td>\n",
       "      <td>POINT (94.66609 90.54227)</td>\n",
       "    </tr>\n",
       "    <tr>\n",
       "      <th>1</th>\n",
       "      <td>1</td>\n",
       "      <td>POINT (87.60424 88.72771)</td>\n",
       "    </tr>\n",
       "    <tr>\n",
       "      <th>2</th>\n",
       "      <td>2</td>\n",
       "      <td>POINT (90.87327 85.24265)</td>\n",
       "    </tr>\n",
       "    <tr>\n",
       "      <th>3</th>\n",
       "      <td>3</td>\n",
       "      <td>POINT (86.95024 91.68280)</td>\n",
       "    </tr>\n",
       "    <tr>\n",
       "      <th>4</th>\n",
       "      <td>4</td>\n",
       "      <td>POINT (96.47418 81.51380)</td>\n",
       "    </tr>\n",
       "    <tr>\n",
       "      <th>...</th>\n",
       "      <td>...</td>\n",
       "      <td>...</td>\n",
       "    </tr>\n",
       "    <tr>\n",
       "      <th>995</th>\n",
       "      <td>995</td>\n",
       "      <td>POINT (97.32347 87.79448)</td>\n",
       "    </tr>\n",
       "    <tr>\n",
       "      <th>996</th>\n",
       "      <td>996</td>\n",
       "      <td>POINT (101.24292 90.90956)</td>\n",
       "    </tr>\n",
       "    <tr>\n",
       "      <th>997</th>\n",
       "      <td>997</td>\n",
       "      <td>POINT (90.51341 75.02474)</td>\n",
       "    </tr>\n",
       "    <tr>\n",
       "      <th>998</th>\n",
       "      <td>998</td>\n",
       "      <td>POINT (95.44983 80.63613)</td>\n",
       "    </tr>\n",
       "    <tr>\n",
       "      <th>999</th>\n",
       "      <td>999</td>\n",
       "      <td>POINT (92.37557 80.63396)</td>\n",
       "    </tr>\n",
       "  </tbody>\n",
       "</table>\n",
       "<p>1000 rows × 2 columns</p>\n",
       "</div>"
      ],
      "text/plain": [
       "     Name                    geometry\n",
       "0       0   POINT (94.66609 90.54227)\n",
       "1       1   POINT (87.60424 88.72771)\n",
       "2       2   POINT (90.87327 85.24265)\n",
       "3       3   POINT (86.95024 91.68280)\n",
       "4       4   POINT (96.47418 81.51380)\n",
       "..    ...                         ...\n",
       "995   995   POINT (97.32347 87.79448)\n",
       "996   996  POINT (101.24292 90.90956)\n",
       "997   997   POINT (90.51341 75.02474)\n",
       "998   998   POINT (95.44983 80.63613)\n",
       "999   999   POINT (92.37557 80.63396)\n",
       "\n",
       "[1000 rows x 2 columns]"
      ]
     },
     "execution_count": 185,
     "metadata": {},
     "output_type": "execute_result"
    }
   ],
   "source": [
    "point_gpd.set_crs('EPSG:4326')"
   ]
  },
  {
   "cell_type": "code",
   "execution_count": 191,
   "metadata": {},
   "outputs": [
    {
     "data": {
      "text/plain": [
       "<Geographic 2D CRS: EPSG:4326>\n",
       "Name: WGS 84\n",
       "Axis Info [ellipsoidal]:\n",
       "- Lat[north]: Geodetic latitude (degree)\n",
       "- Lon[east]: Geodetic longitude (degree)\n",
       "Area of Use:\n",
       "- name: World.\n",
       "- bounds: (-180.0, -90.0, 180.0, 90.0)\n",
       "Datum: World Geodetic System 1984 ensemble\n",
       "- Ellipsoid: WGS 84\n",
       "- Prime Meridian: Greenwich"
      ]
     },
     "execution_count": 191,
     "metadata": {},
     "output_type": "execute_result"
    }
   ],
   "source": [
    "point_gpd = point_gpd.to_crs('epsg:4326')\n",
    "point_gpd.crs  "
   ]
  },
  {
   "cell_type": "code",
   "execution_count": 218,
   "metadata": {},
   "outputs": [],
   "source": [
    "data_merged = gpd.sjoin(point_gpd, sqr_tessel, how=\"inner\",predicate='within')"
   ]
  },
  {
   "cell_type": "code",
   "execution_count": 219,
   "metadata": {},
   "outputs": [
    {
     "data": {
      "text/html": [
       "<div>\n",
       "<style scoped>\n",
       "    .dataframe tbody tr th:only-of-type {\n",
       "        vertical-align: middle;\n",
       "    }\n",
       "\n",
       "    .dataframe tbody tr th {\n",
       "        vertical-align: top;\n",
       "    }\n",
       "\n",
       "    .dataframe thead th {\n",
       "        text-align: right;\n",
       "    }\n",
       "</style>\n",
       "<table border=\"1\" class=\"dataframe\">\n",
       "  <thead>\n",
       "    <tr style=\"text-align: right;\">\n",
       "      <th></th>\n",
       "      <th>Name_left</th>\n",
       "      <th>geometry</th>\n",
       "      <th>index_right</th>\n",
       "      <th>Name_right</th>\n",
       "      <th>quadkey</th>\n",
       "      <th>children_id</th>\n",
       "    </tr>\n",
       "  </thead>\n",
       "  <tbody>\n",
       "    <tr>\n",
       "      <th>0</th>\n",
       "      <td>0</td>\n",
       "      <td>POINT (0.00085 0.00081)</td>\n",
       "      <td>9</td>\n",
       "      <td>1</td>\n",
       "      <td>122222222222222222122</td>\n",
       "      <td>[1222222222222222221220, 122222222222222222122...</td>\n",
       "    </tr>\n",
       "    <tr>\n",
       "      <th>1</th>\n",
       "      <td>1</td>\n",
       "      <td>POINT (0.00079 0.00080)</td>\n",
       "      <td>9</td>\n",
       "      <td>1</td>\n",
       "      <td>122222222222222222122</td>\n",
       "      <td>[1222222222222222221220, 122222222222222222122...</td>\n",
       "    </tr>\n",
       "    <tr>\n",
       "      <th>2</th>\n",
       "      <td>2</td>\n",
       "      <td>POINT (0.00082 0.00077)</td>\n",
       "      <td>9</td>\n",
       "      <td>1</td>\n",
       "      <td>122222222222222222122</td>\n",
       "      <td>[1222222222222222221220, 122222222222222222122...</td>\n",
       "    </tr>\n",
       "    <tr>\n",
       "      <th>3</th>\n",
       "      <td>3</td>\n",
       "      <td>POINT (0.00078 0.00082)</td>\n",
       "      <td>9</td>\n",
       "      <td>1</td>\n",
       "      <td>122222222222222222122</td>\n",
       "      <td>[1222222222222222221220, 122222222222222222122...</td>\n",
       "    </tr>\n",
       "    <tr>\n",
       "      <th>5</th>\n",
       "      <td>5</td>\n",
       "      <td>POINT (0.00080 0.00072)</td>\n",
       "      <td>9</td>\n",
       "      <td>1</td>\n",
       "      <td>122222222222222222122</td>\n",
       "      <td>[1222222222222222221220, 122222222222222222122...</td>\n",
       "    </tr>\n",
       "    <tr>\n",
       "      <th>...</th>\n",
       "      <td>...</td>\n",
       "      <td>...</td>\n",
       "      <td>...</td>\n",
       "      <td>...</td>\n",
       "      <td>...</td>\n",
       "      <td>...</td>\n",
       "    </tr>\n",
       "    <tr>\n",
       "      <th>492</th>\n",
       "      <td>492</td>\n",
       "      <td>POINT (0.00058 0.00089)</td>\n",
       "      <td>4</td>\n",
       "      <td>1</td>\n",
       "      <td>122222222222222222031</td>\n",
       "      <td>[1222222222222222220310, 122222222222222222031...</td>\n",
       "    </tr>\n",
       "    <tr>\n",
       "      <th>907</th>\n",
       "      <td>907</td>\n",
       "      <td>POINT (0.00066 0.00089)</td>\n",
       "      <td>4</td>\n",
       "      <td>1</td>\n",
       "      <td>122222222222222222031</td>\n",
       "      <td>[1222222222222222220310, 122222222222222222031...</td>\n",
       "    </tr>\n",
       "    <tr>\n",
       "      <th>915</th>\n",
       "      <td>915</td>\n",
       "      <td>POINT (0.00060 0.00087)</td>\n",
       "      <td>4</td>\n",
       "      <td>1</td>\n",
       "      <td>122222222222222222031</td>\n",
       "      <td>[1222222222222222220310, 122222222222222222031...</td>\n",
       "    </tr>\n",
       "    <tr>\n",
       "      <th>944</th>\n",
       "      <td>944</td>\n",
       "      <td>POINT (0.00065 0.00088)</td>\n",
       "      <td>4</td>\n",
       "      <td>1</td>\n",
       "      <td>122222222222222222031</td>\n",
       "      <td>[1222222222222222220310, 122222222222222222031...</td>\n",
       "    </tr>\n",
       "    <tr>\n",
       "      <th>852</th>\n",
       "      <td>852</td>\n",
       "      <td>POINT (0.00049 0.00089)</td>\n",
       "      <td>0</td>\n",
       "      <td>1</td>\n",
       "      <td>122222222222222222030</td>\n",
       "      <td>[1222222222222222220300, 122222222222222222030...</td>\n",
       "    </tr>\n",
       "  </tbody>\n",
       "</table>\n",
       "<p>1000 rows × 6 columns</p>\n",
       "</div>"
      ],
      "text/plain": [
       "     Name_left                 geometry  index_right  Name_right  \\\n",
       "0            0  POINT (0.00085 0.00081)            9           1   \n",
       "1            1  POINT (0.00079 0.00080)            9           1   \n",
       "2            2  POINT (0.00082 0.00077)            9           1   \n",
       "3            3  POINT (0.00078 0.00082)            9           1   \n",
       "5            5  POINT (0.00080 0.00072)            9           1   \n",
       "..         ...                      ...          ...         ...   \n",
       "492        492  POINT (0.00058 0.00089)            4           1   \n",
       "907        907  POINT (0.00066 0.00089)            4           1   \n",
       "915        915  POINT (0.00060 0.00087)            4           1   \n",
       "944        944  POINT (0.00065 0.00088)            4           1   \n",
       "852        852  POINT (0.00049 0.00089)            0           1   \n",
       "\n",
       "                   quadkey                                        children_id  \n",
       "0    122222222222222222122  [1222222222222222221220, 122222222222222222122...  \n",
       "1    122222222222222222122  [1222222222222222221220, 122222222222222222122...  \n",
       "2    122222222222222222122  [1222222222222222221220, 122222222222222222122...  \n",
       "3    122222222222222222122  [1222222222222222221220, 122222222222222222122...  \n",
       "5    122222222222222222122  [1222222222222222221220, 122222222222222222122...  \n",
       "..                     ...                                                ...  \n",
       "492  122222222222222222031  [1222222222222222220310, 122222222222222222031...  \n",
       "907  122222222222222222031  [1222222222222222220310, 122222222222222222031...  \n",
       "915  122222222222222222031  [1222222222222222220310, 122222222222222222031...  \n",
       "944  122222222222222222031  [1222222222222222220310, 122222222222222222031...  \n",
       "852  122222222222222222030  [1222222222222222220300, 122222222222222222030...  \n",
       "\n",
       "[1000 rows x 6 columns]"
      ]
     },
     "execution_count": 219,
     "metadata": {},
     "output_type": "execute_result"
    }
   ],
   "source": [
    "data_merged"
   ]
  },
  {
   "cell_type": "code",
   "execution_count": 199,
   "metadata": {},
   "outputs": [
    {
     "data": {
      "text/plain": [
       "<AxesSubplot: >"
      ]
     },
     "execution_count": 199,
     "metadata": {},
     "output_type": "execute_result"
    },
    {
     "data": {
      "image/png": "[encoded data removed]",
      "text/plain": [
       "<Figure size 640x480 with 1 Axes>"
      ]
     },
     "metadata": {},
     "output_type": "display_data"
    }
   ],
   "source": [
    "point_gpd.plot()"
   ]
  },
  {
   "cell_type": "code",
   "execution_count": 223,
   "metadata": {},
   "outputs": [
    {
     "data": {
      "text/html": [
       "<div>\n",
       "<style scoped>\n",
       "    .dataframe tbody tr th:only-of-type {\n",
       "        vertical-align: middle;\n",
       "    }\n",
       "\n",
       "    .dataframe tbody tr th {\n",
       "        vertical-align: top;\n",
       "    }\n",
       "\n",
       "    .dataframe thead th {\n",
       "        text-align: right;\n",
       "    }\n",
       "</style>\n",
       "<table border=\"1\" class=\"dataframe\">\n",
       "  <thead>\n",
       "    <tr style=\"text-align: right;\">\n",
       "      <th></th>\n",
       "      <th>Name_left</th>\n",
       "      <th>geometry</th>\n",
       "      <th>index_right</th>\n",
       "      <th>Name_right</th>\n",
       "      <th>quadkey</th>\n",
       "      <th>children_id</th>\n",
       "    </tr>\n",
       "  </thead>\n",
       "  <tbody>\n",
       "    <tr>\n",
       "      <th>0</th>\n",
       "      <td>0</td>\n",
       "      <td>POINT (0.00085 0.00081)</td>\n",
       "      <td>9</td>\n",
       "      <td>1</td>\n",
       "      <td>122222222222222222122</td>\n",
       "      <td>[1222222222222222221220, 122222222222222222122...</td>\n",
       "    </tr>\n",
       "    <tr>\n",
       "      <th>1</th>\n",
       "      <td>1</td>\n",
       "      <td>POINT (0.00079 0.00080)</td>\n",
       "      <td>9</td>\n",
       "      <td>1</td>\n",
       "      <td>122222222222222222122</td>\n",
       "      <td>[1222222222222222221220, 122222222222222222122...</td>\n",
       "    </tr>\n",
       "    <tr>\n",
       "      <th>2</th>\n",
       "      <td>2</td>\n",
       "      <td>POINT (0.00082 0.00077)</td>\n",
       "      <td>9</td>\n",
       "      <td>1</td>\n",
       "      <td>122222222222222222122</td>\n",
       "      <td>[1222222222222222221220, 122222222222222222122...</td>\n",
       "    </tr>\n",
       "    <tr>\n",
       "      <th>3</th>\n",
       "      <td>3</td>\n",
       "      <td>POINT (0.00078 0.00082)</td>\n",
       "      <td>9</td>\n",
       "      <td>1</td>\n",
       "      <td>122222222222222222122</td>\n",
       "      <td>[1222222222222222221220, 122222222222222222122...</td>\n",
       "    </tr>\n",
       "    <tr>\n",
       "      <th>5</th>\n",
       "      <td>5</td>\n",
       "      <td>POINT (0.00080 0.00072)</td>\n",
       "      <td>9</td>\n",
       "      <td>1</td>\n",
       "      <td>122222222222222222122</td>\n",
       "      <td>[1222222222222222221220, 122222222222222222122...</td>\n",
       "    </tr>\n",
       "    <tr>\n",
       "      <th>...</th>\n",
       "      <td>...</td>\n",
       "      <td>...</td>\n",
       "      <td>...</td>\n",
       "      <td>...</td>\n",
       "      <td>...</td>\n",
       "      <td>...</td>\n",
       "    </tr>\n",
       "    <tr>\n",
       "      <th>492</th>\n",
       "      <td>492</td>\n",
       "      <td>POINT (0.00058 0.00089)</td>\n",
       "      <td>4</td>\n",
       "      <td>1</td>\n",
       "      <td>122222222222222222031</td>\n",
       "      <td>[1222222222222222220310, 122222222222222222031...</td>\n",
       "    </tr>\n",
       "    <tr>\n",
       "      <th>907</th>\n",
       "      <td>907</td>\n",
       "      <td>POINT (0.00066 0.00089)</td>\n",
       "      <td>4</td>\n",
       "      <td>1</td>\n",
       "      <td>122222222222222222031</td>\n",
       "      <td>[1222222222222222220310, 122222222222222222031...</td>\n",
       "    </tr>\n",
       "    <tr>\n",
       "      <th>915</th>\n",
       "      <td>915</td>\n",
       "      <td>POINT (0.00060 0.00087)</td>\n",
       "      <td>4</td>\n",
       "      <td>1</td>\n",
       "      <td>122222222222222222031</td>\n",
       "      <td>[1222222222222222220310, 122222222222222222031...</td>\n",
       "    </tr>\n",
       "    <tr>\n",
       "      <th>944</th>\n",
       "      <td>944</td>\n",
       "      <td>POINT (0.00065 0.00088)</td>\n",
       "      <td>4</td>\n",
       "      <td>1</td>\n",
       "      <td>122222222222222222031</td>\n",
       "      <td>[1222222222222222220310, 122222222222222222031...</td>\n",
       "    </tr>\n",
       "    <tr>\n",
       "      <th>852</th>\n",
       "      <td>852</td>\n",
       "      <td>POINT (0.00049 0.00089)</td>\n",
       "      <td>0</td>\n",
       "      <td>1</td>\n",
       "      <td>122222222222222222030</td>\n",
       "      <td>[1222222222222222220300, 122222222222222222030...</td>\n",
       "    </tr>\n",
       "  </tbody>\n",
       "</table>\n",
       "<p>1000 rows × 6 columns</p>\n",
       "</div>"
      ],
      "text/plain": [
       "     Name_left                 geometry  index_right  Name_right  \\\n",
       "0            0  POINT (0.00085 0.00081)            9           1   \n",
       "1            1  POINT (0.00079 0.00080)            9           1   \n",
       "2            2  POINT (0.00082 0.00077)            9           1   \n",
       "3            3  POINT (0.00078 0.00082)            9           1   \n",
       "5            5  POINT (0.00080 0.00072)            9           1   \n",
       "..         ...                      ...          ...         ...   \n",
       "492        492  POINT (0.00058 0.00089)            4           1   \n",
       "907        907  POINT (0.00066 0.00089)            4           1   \n",
       "915        915  POINT (0.00060 0.00087)            4           1   \n",
       "944        944  POINT (0.00065 0.00088)            4           1   \n",
       "852        852  POINT (0.00049 0.00089)            0           1   \n",
       "\n",
       "                   quadkey                                        children_id  \n",
       "0    122222222222222222122  [1222222222222222221220, 122222222222222222122...  \n",
       "1    122222222222222222122  [1222222222222222221220, 122222222222222222122...  \n",
       "2    122222222222222222122  [1222222222222222221220, 122222222222222222122...  \n",
       "3    122222222222222222122  [1222222222222222221220, 122222222222222222122...  \n",
       "5    122222222222222222122  [1222222222222222221220, 122222222222222222122...  \n",
       "..                     ...                                                ...  \n",
       "492  122222222222222222031  [1222222222222222220310, 122222222222222222031...  \n",
       "907  122222222222222222031  [1222222222222222220310, 122222222222222222031...  \n",
       "915  122222222222222222031  [1222222222222222220310, 122222222222222222031...  \n",
       "944  122222222222222222031  [1222222222222222220310, 122222222222222222031...  \n",
       "852  122222222222222222030  [1222222222222222220300, 122222222222222222030...  \n",
       "\n",
       "[1000 rows x 6 columns]"
      ]
     },
     "execution_count": 223,
     "metadata": {},
     "output_type": "execute_result"
    }
   ],
   "source": [
    "data_merged"
   ]
  },
  {
   "cell_type": "code",
   "execution_count": 224,
   "metadata": {},
   "outputs": [
    {
     "name": "stderr",
     "output_type": "stream",
     "text": [
      "C:\\Users\\MICKO\\AppData\\Local\\Temp\\ipykernel_8784\\3631613288.py:1: FutureWarning: The default value of numeric_only in DataFrameGroupBy.sum is deprecated. In a future version, numeric_only will default to False. Either specify numeric_only or select only columns which should be valid for the function.\n",
      "  area_df = data_merged.groupby('index_right').agg('sum')\n"
     ]
    }
   ],
   "source": [
    "area_df = data_merged.groupby('index_right').agg('sum')"
   ]
  },
  {
   "cell_type": "code",
   "execution_count": 238,
   "metadata": {},
   "outputs": [],
   "source": [
    "sqr_tessel['id'] = sqr_tessel.index"
   ]
  },
  {
   "cell_type": "code",
   "execution_count": 243,
   "metadata": {},
   "outputs": [],
   "source": [
    "final_gpd = pd.merge(sqr_tessel, area_df, on='id', how='outer', indicator=False)"
   ]
  },
  {
   "cell_type": "code",
   "execution_count": 242,
   "metadata": {},
   "outputs": [],
   "source": [
    "area_df['id']=area_df.index"
   ]
  },
  {
   "cell_type": "code",
   "execution_count": 247,
   "metadata": {},
   "outputs": [],
   "source": [
    "final_gpd.fillna(0,inplace=True)"
   ]
  },
  {
   "cell_type": "code",
   "execution_count": 249,
   "metadata": {},
   "outputs": [
    {
     "data": {
      "text/plain": [
       "<AxesSubplot: >"
      ]
     },
     "execution_count": 249,
     "metadata": {},
     "output_type": "execute_result"
    },
    {
     "data": {
      "image/png": "[encoded data removed]",
      "text/plain": [
       "<Figure size 640x480 with 1 Axes>"
      ]
     },
     "metadata": {},
     "output_type": "display_data"
    }
   ],
   "source": [
    "final_gpd.plot(column='Name_right')"
   ]
  },
  {
   "cell_type": "code",
   "execution_count": 254,
   "metadata": {},
   "outputs": [
    {
     "data": {
      "text/plain": [
       "[<matplotlib.lines.Line2D at 0x1239153f3d0>,\n",
       " <matplotlib.lines.Line2D at 0x1239153f430>]"
      ]
     },
     "execution_count": 254,
     "metadata": {},
     "output_type": "execute_result"
    },
    {
     "data": {
      "image/png": "[encoded data removed]",
      "text/plain": [
       "<Figure size 640x480 with 1 Axes>"
      ]
     },
     "metadata": {},
     "output_type": "display_data"
    }
   ],
   "source": [
    "plt.plot(x_dist)"
   ]
  },
  {
   "cell_type": "code",
   "execution_count": 256,
   "metadata": {},
   "outputs": [
    {
     "data": {
      "text/plain": [
       "array([87.60423631, 88.72771254])"
      ]
     },
     "execution_count": 256,
     "metadata": {},
     "output_type": "execute_result"
    }
   ],
   "source": [
    "x_dist[1]"
   ]
  },
  {
   "cell_type": "code",
   "execution_count": 79,
   "metadata": {},
   "outputs": [
    {
     "name": "stdout",
     "output_type": "stream",
     "text": [
      "[[  0.   0.   0.   0.   0.   1.   0.   0.   0.]\n",
      " [  0.   0.   0.   0.   0.   0.   0.   0.   0.]\n",
      " [  0.   0.   0.   0.   0.   1.   0.   1.   0.]\n",
      " [  0.   0.   0.   0.   1.   2.   3.   5.   0.]\n",
      " [  0.   0.   0.   0.   2.   6.  29.  15.   4.]\n",
      " [  0.   0.   0.   1.   3.  48.  73.  51.   5.]\n",
      " [  0.   1.   0.   3.  19.  74. 151. 121.  11.]\n",
      " [  0.   0.   0.   4.  12.  60. 121. 109.  22.]\n",
      " [  0.   0.   0.   0.   5.   5.  10.  19.   2.]]\n"
     ]
    }
   ],
   "source": [
    "import numpy as np\n",
    "\n",
    "# Generate some random data\n",
    "points = np.random.rand(100, 2)\n",
    "\n",
    "# Define the bins for the histogram\n",
    "bins = [np.linspace(x_dist.min(), x_dist.max(), 10), np.linspace(x_dist.min(), x_dist.max(), 10)]\n",
    "\n",
    "# Use the histogram2d function to create the histogram\n",
    "histogram, a, b = np.histogram2d(x_dist[:,0], x_dist[:,1], bins=bins)\n",
    "\n",
    "# Print the histogram\n",
    "print(histogram)"
   ]
  },
  {
   "cell_type": "code",
   "execution_count": 76,
   "metadata": {},
   "outputs": [
    {
     "data": {
      "text/plain": [
       "array([False, False, False, False, False, False, False, False,  True])"
      ]
     },
     "execution_count": 76,
     "metadata": {},
     "output_type": "execute_result"
    }
   ],
   "source": [
    "b == a"
   ]
  },
  {
   "cell_type": "code",
   "execution_count": 37,
   "metadata": {},
   "outputs": [],
   "source": [
    "r = histogram.flatten()"
   ]
  },
  {
   "cell_type": "code",
   "execution_count": 82,
   "metadata": {},
   "outputs": [
    {
     "data": {
      "text/plain": [
       "35.64164918124939"
      ]
     },
     "execution_count": 82,
     "metadata": {},
     "output_type": "execute_result"
    }
   ],
   "source": [
    "a[0]"
   ]
  },
  {
   "cell_type": "code",
   "execution_count": 120,
   "metadata": {},
   "outputs": [],
   "source": [
    "d_map = {}\n",
    "p_map = {}\n",
    "d_map.setdefault(\"N_points\", [])\n",
    "p_map.setdefault(\"Lon\", [])\n",
    "p_map.setdefault(\"Lat\", [])\n",
    "for ith, o in enumerate(histogram):\n",
    "    for jth, k in enumerate(histogram[ith]):\n",
    "        d_map['N_points'].append(k)\n",
    "        p_map['Lon'].append(a[ith])\n",
    "        p_map['Lat'].append(b[jth])\n",
    "        "
   ]
  },
  {
   "cell_type": "code",
   "execution_count": null,
   "metadata": {},
   "outputs": [],
   "source": []
  },
  {
   "cell_type": "code",
   "execution_count": 40,
   "metadata": {},
   "outputs": [
    {
     "data": {
      "text/plain": [
       "(9, 9)"
      ]
     },
     "execution_count": 40,
     "metadata": {},
     "output_type": "execute_result"
    }
   ],
   "source": [
    "histogram.shape"
   ]
  },
  {
   "cell_type": "code",
   "execution_count": 121,
   "metadata": {},
   "outputs": [],
   "source": [
    "import pandas as pd\n",
    "p_dict = {'x':a,'y':b}\n",
    "p_df = pd.DataFrame(p_map)\n",
    "d_df = pd.DataFrame(d_map)\n",
    "n_join = p_df.join(d_df)"
   ]
  },
  {
   "cell_type": "code",
   "execution_count": 127,
   "metadata": {},
   "outputs": [],
   "source": [
    "import geopandas as gpd\n",
    "gdf = gpd.GeoDataFrame(n_join, geometry=gpd.points_from_xy(n_join['Lon'], n_join['Lat']))"
   ]
  },
  {
   "cell_type": "code",
   "execution_count": 134,
   "metadata": {},
   "outputs": [
    {
     "data": {
      "text/plain": [
       "array([0.   , 0.001, 0.002, 0.003, 0.005, 0.006, 0.029, 0.015, 0.004,\n",
       "       0.048, 0.073, 0.051, 0.019, 0.074, 0.151, 0.121, 0.011, 0.012,\n",
       "       0.06 , 0.109, 0.022, 0.01 ])"
      ]
     },
     "execution_count": 134,
     "metadata": {},
     "output_type": "execute_result"
    }
   ],
   "source": [
    "gdf['N_points'].unique()"
   ]
  },
  {
   "cell_type": "code",
   "execution_count": 132,
   "metadata": {},
   "outputs": [],
   "source": [
    "gdf['N_points'] = gdf['N_points']/1000"
   ]
  },
  {
   "cell_type": "code",
   "execution_count": 133,
   "metadata": {},
   "outputs": [
    {
     "data": {
      "text/plain": [
       "<AxesSubplot: >"
      ]
     },
     "execution_count": 133,
     "metadata": {},
     "output_type": "execute_result"
    },
    {
     "data": {
      "image/png": "[encoded data removed]",
      "text/plain": [
       "<Figure size 640x480 with 1 Axes>"
      ]
     },
     "metadata": {},
     "output_type": "display_data"
    }
   ],
   "source": [
    "gdf.plot(column='N_points')"
   ]
  },
  {
   "cell_type": "code",
   "execution_count": 32,
   "metadata": {},
   "outputs": [],
   "source": [
    "from sklearn.preprocessing import normalize\n",
    "p_hist = histogram/1000"
   ]
  },
  {
   "cell_type": "code",
   "execution_count": 34,
   "metadata": {},
   "outputs": [
    {
     "data": {
      "text/plain": [
       "0.151"
      ]
     },
     "execution_count": 34,
     "metadata": {},
     "output_type": "execute_result"
    }
   ],
   "source": [
    "p_hist.max()"
   ]
  },
  {
   "cell_type": "code",
   "execution_count": 27,
   "metadata": {},
   "outputs": [
    {
     "data": {
      "text/plain": [
       "1.0"
      ]
     },
     "execution_count": 27,
     "metadata": {},
     "output_type": "execute_result"
    }
   ],
   "source": [
    "n_hist.max()"
   ]
  },
  {
   "cell_type": "code",
   "execution_count": 16,
   "metadata": {},
   "outputs": [
    {
     "ename": "ValueError",
     "evalue": "`bins[0]` must be a scalar or 1d array",
     "output_type": "error",
     "traceback": [
      "\u001b[1;31m---------------------------------------------------------------------------\u001b[0m",
      "\u001b[1;31mValueError\u001b[0m                                Traceback (most recent call last)",
      "Cell \u001b[1;32mIn [16], line 10\u001b[0m\n\u001b[0;32m      7\u001b[0m bins \u001b[38;5;241m=\u001b[39m [np\u001b[38;5;241m.\u001b[39mlinspace(points[:,\u001b[38;5;241m0\u001b[39m], points[:,\u001b[38;5;241m1\u001b[39m], \u001b[38;5;241m10\u001b[39m), np\u001b[38;5;241m.\u001b[39mlinspace(points[:,\u001b[38;5;241m0\u001b[39m], points[:,\u001b[38;5;241m1\u001b[39m], \u001b[38;5;241m10\u001b[39m)]\n\u001b[0;32m      9\u001b[0m \u001b[38;5;66;03m# Use the histogram2d function to create the histogram\u001b[39;00m\n\u001b[1;32m---> 10\u001b[0m histogram, _, _ \u001b[38;5;241m=\u001b[39m \u001b[43mnp\u001b[49m\u001b[38;5;241;43m.\u001b[39;49m\u001b[43mhistogram2d\u001b[49m\u001b[43m(\u001b[49m\u001b[43mx_dist\u001b[49m\u001b[43m[\u001b[49m\u001b[43m:\u001b[49m\u001b[43m,\u001b[49m\u001b[38;5;241;43m0\u001b[39;49m\u001b[43m]\u001b[49m\u001b[43m,\u001b[49m\u001b[43m \u001b[49m\u001b[43mx_dist\u001b[49m\u001b[43m[\u001b[49m\u001b[43m:\u001b[49m\u001b[43m,\u001b[49m\u001b[38;5;241;43m1\u001b[39;49m\u001b[43m]\u001b[49m\u001b[43m,\u001b[49m\u001b[43m \u001b[49m\u001b[43mbins\u001b[49m\u001b[38;5;241;43m=\u001b[39;49m\u001b[43mbins\u001b[49m\u001b[43m)\u001b[49m\n\u001b[0;32m     12\u001b[0m \u001b[38;5;66;03m# Print the histogram\u001b[39;00m\n\u001b[0;32m     13\u001b[0m \u001b[38;5;28mprint\u001b[39m(histogram)\n",
      "File \u001b[1;32m<__array_function__ internals>:180\u001b[0m, in \u001b[0;36mhistogram2d\u001b[1;34m(*args, **kwargs)\u001b[0m\n",
      "File \u001b[1;32m~\\anaconda3\\envs\\ox\\lib\\site-packages\\numpy\\lib\\twodim_base.py:825\u001b[0m, in \u001b[0;36mhistogram2d\u001b[1;34m(x, y, bins, range, normed, weights, density)\u001b[0m\n\u001b[0;32m    823\u001b[0m     xedges \u001b[38;5;241m=\u001b[39m yedges \u001b[38;5;241m=\u001b[39m asarray(bins)\n\u001b[0;32m    824\u001b[0m     bins \u001b[38;5;241m=\u001b[39m [xedges, yedges]\n\u001b[1;32m--> 825\u001b[0m hist, edges \u001b[38;5;241m=\u001b[39m \u001b[43mhistogramdd\u001b[49m\u001b[43m(\u001b[49m\u001b[43m[\u001b[49m\u001b[43mx\u001b[49m\u001b[43m,\u001b[49m\u001b[43m \u001b[49m\u001b[43my\u001b[49m\u001b[43m]\u001b[49m\u001b[43m,\u001b[49m\u001b[43m \u001b[49m\u001b[43mbins\u001b[49m\u001b[43m,\u001b[49m\u001b[43m \u001b[49m\u001b[38;5;28;43mrange\u001b[39;49m\u001b[43m,\u001b[49m\u001b[43m \u001b[49m\u001b[43mnormed\u001b[49m\u001b[43m,\u001b[49m\u001b[43m \u001b[49m\u001b[43mweights\u001b[49m\u001b[43m,\u001b[49m\u001b[43m \u001b[49m\u001b[43mdensity\u001b[49m\u001b[43m)\u001b[49m\n\u001b[0;32m    826\u001b[0m \u001b[38;5;28;01mreturn\u001b[39;00m hist, edges[\u001b[38;5;241m0\u001b[39m], edges[\u001b[38;5;241m1\u001b[39m]\n",
      "File \u001b[1;32m<__array_function__ internals>:180\u001b[0m, in \u001b[0;36mhistogramdd\u001b[1;34m(*args, **kwargs)\u001b[0m\n",
      "File \u001b[1;32m~\\anaconda3\\envs\\ox\\lib\\site-packages\\numpy\\lib\\histograms.py:1067\u001b[0m, in \u001b[0;36mhistogramdd\u001b[1;34m(sample, bins, range, normed, weights, density)\u001b[0m\n\u001b[0;32m   1063\u001b[0m         \u001b[38;5;28;01mraise\u001b[39;00m \u001b[38;5;167;01mValueError\u001b[39;00m(\n\u001b[0;32m   1064\u001b[0m             \u001b[38;5;124m'\u001b[39m\u001b[38;5;124m`bins[\u001b[39m\u001b[38;5;132;01m{}\u001b[39;00m\u001b[38;5;124m]` must be monotonically increasing, when an array\u001b[39m\u001b[38;5;124m'\u001b[39m\n\u001b[0;32m   1065\u001b[0m             \u001b[38;5;241m.\u001b[39mformat(i))\n\u001b[0;32m   1066\u001b[0m \u001b[38;5;28;01melse\u001b[39;00m:\n\u001b[1;32m-> 1067\u001b[0m     \u001b[38;5;28;01mraise\u001b[39;00m \u001b[38;5;167;01mValueError\u001b[39;00m(\n\u001b[0;32m   1068\u001b[0m         \u001b[38;5;124m'\u001b[39m\u001b[38;5;124m`bins[\u001b[39m\u001b[38;5;132;01m{}\u001b[39;00m\u001b[38;5;124m]` must be a scalar or 1d array\u001b[39m\u001b[38;5;124m'\u001b[39m\u001b[38;5;241m.\u001b[39mformat(i))\n\u001b[0;32m   1070\u001b[0m nbin[i] \u001b[38;5;241m=\u001b[39m \u001b[38;5;28mlen\u001b[39m(edges[i]) \u001b[38;5;241m+\u001b[39m \u001b[38;5;241m1\u001b[39m  \u001b[38;5;66;03m# includes an outlier on each end\u001b[39;00m\n\u001b[0;32m   1071\u001b[0m dedges[i] \u001b[38;5;241m=\u001b[39m np\u001b[38;5;241m.\u001b[39mdiff(edges[i])\n",
      "\u001b[1;31mValueError\u001b[0m: `bins[0]` must be a scalar or 1d array"
     ]
    }
   ],
   "source": [
    "import numpy as np\n",
    "\n",
    "# Generate some random data\n",
    "points = np.random.rand(100, 2)\n",
    "\n",
    "# Define the bins for the histogram\n",
    "bins = [np.linspace(0, 1, 10), np.linspace(0, 1, 10)]\n",
    "\n",
    "# Use the histogram2d function to create the histogram\n",
    "histogram, _, _ = np.histogram2d(x_dist[:,0], x_dist[:,1], bins=bins)\n",
    "\n",
    "# Print the histogram\n",
    "print(histogram)"
   ]
  },
  {
   "cell_type": "code",
   "execution_count": 19,
   "metadata": {},
   "outputs": [
    {
     "data": {
      "text/plain": [
       "0.9923744437047507"
      ]
     },
     "execution_count": 19,
     "metadata": {},
     "output_type": "execute_result"
    }
   ],
   "source": [
    "points.max()"
   ]
  },
  {
   "cell_type": "code",
   "execution_count": 18,
   "metadata": {},
   "outputs": [
    {
     "data": {
      "text/plain": [
       "array([6.37540851e-01, 3.94686984e-01, 4.68243439e-03, 7.20441833e-01,\n",
       "       8.77463802e-01, 7.97703785e-01, 9.53441803e-01, 9.47677562e-01,\n",
       "       1.04923380e-01, 5.99159505e-01, 2.95456218e-01, 1.02924592e-01,\n",
       "       9.39914265e-01, 1.34062971e-01, 6.27185422e-01, 9.92374444e-01,\n",
       "       2.42984200e-01, 9.03487767e-01, 3.11648770e-01, 2.22649533e-01,\n",
       "       9.09983183e-02, 8.66809942e-01, 6.13657868e-01, 6.42464826e-01,\n",
       "       7.48277697e-01, 3.21419228e-01, 6.95948599e-01, 4.87644950e-01,\n",
       "       6.41573874e-01, 6.29439817e-01, 3.98237364e-01, 3.14047141e-01,\n",
       "       2.51802526e-01, 9.49719957e-01, 5.54760349e-01, 1.45502157e-01,\n",
       "       8.75134557e-01, 2.73467240e-01, 2.44473064e-01, 5.68898106e-01,\n",
       "       6.95164131e-01, 8.78542518e-01, 1.35553692e-01, 5.94485308e-01,\n",
       "       7.65409637e-01, 4.47526772e-01, 5.45862807e-01, 4.02433268e-01,\n",
       "       3.77267676e-01, 6.28149862e-06, 1.62577809e-01, 8.31971056e-01,\n",
       "       7.19263673e-01, 2.85301772e-01, 5.41411974e-01, 2.03886608e-01,\n",
       "       8.59614095e-01, 3.61460057e-01, 4.53404756e-02, 5.14105271e-01,\n",
       "       1.46585231e-01, 3.53245146e-01, 6.60974235e-01, 6.65095990e-01,\n",
       "       5.89965198e-01, 3.75421289e-01, 9.30553811e-01, 4.32710734e-01,\n",
       "       8.38890632e-01, 2.69893255e-01, 3.33816102e-01, 8.92805442e-02,\n",
       "       6.68279980e-01, 4.50069183e-01, 1.27747033e-01, 5.57550513e-01,\n",
       "       2.60792659e-01, 9.46940663e-01, 1.09730210e-01, 5.20111495e-01,\n",
       "       1.72563314e-01, 5.45768899e-02, 9.09385658e-01, 6.24848136e-01,\n",
       "       1.22984387e-01, 4.82731937e-02, 2.24669374e-01, 6.43927610e-01,\n",
       "       9.55802355e-01, 4.28086784e-01, 4.29286119e-02, 1.16663135e-01,\n",
       "       7.92031091e-01, 5.28541006e-02, 6.30161724e-01, 1.87652238e-02,\n",
       "       4.49459924e-01, 6.27133141e-01, 5.62630907e-01, 2.40206674e-01])"
      ]
     },
     "execution_count": 18,
     "metadata": {},
     "output_type": "execute_result"
    }
   ],
   "source": [
    "points[:,0]"
   ]
  },
  {
   "cell_type": "code",
   "execution_count": 298,
   "metadata": {},
   "outputs": [
    {
     "data": {
      "text/plain": [
       "array([[  0.,   0.,   0.,   2.,   4.,   2.,   9.,   2.,   2.],\n",
       "       [  0.,   0.,   1.,   6.,  19.,  46.,  49.,  16.,   1.],\n",
       "       [  1.,   1.,   4.,  18.,  50., 105.,  86.,  34.,   4.],\n",
       "       [  0.,   3.,   4.,  21.,  44.,  92., 102.,  33.,   3.],\n",
       "       [  0.,   1.,   2.,  12.,  21.,  36.,  52.,  25.,   1.],\n",
       "       [  0.,   0.,   4.,   3.,   9.,  18.,  17.,   9.,   0.],\n",
       "       [  0.,   0.,   2.,   0.,   1.,   7.,   7.,   1.,   0.],\n",
       "       [  0.,   0.,   0.,   0.,   0.,   4.,   1.,   1.,   0.],\n",
       "       [  0.,   0.,   0.,   1.,   0.,   0.,   0.,   1.,   0.]])"
      ]
     },
     "execution_count": 298,
     "metadata": {},
     "output_type": "execute_result"
    }
   ],
   "source": [
    "np.flip(histogram,axis=0)"
   ]
  },
  {
   "cell_type": "code",
   "execution_count": null,
   "metadata": {},
   "outputs": [],
   "source": [
    "from sklearn.preprocessing import normalize\n",
    "zel = normalize(histogram)"
   ]
  },
  {
   "cell_type": "code",
   "execution_count": 301,
   "metadata": {},
   "outputs": [],
   "source": [
    "zel =histogram/histogram.max()"
   ]
  },
  {
   "cell_type": "code",
   "execution_count": 303,
   "metadata": {},
   "outputs": [
    {
     "data": {
      "text/plain": [
       "105.0"
      ]
     },
     "execution_count": 303,
     "metadata": {},
     "output_type": "execute_result"
    }
   ],
   "source": [
    "histogram.max()"
   ]
  },
  {
   "cell_type": "code",
   "execution_count": 302,
   "metadata": {},
   "outputs": [
    {
     "data": {
      "text/plain": [
       "array([[0.        , 0.        , 0.        , 0.00952381, 0.        ,\n",
       "        0.        , 0.        , 0.00952381, 0.        ],\n",
       "       [0.        , 0.        , 0.        , 0.        , 0.        ,\n",
       "        0.03809524, 0.00952381, 0.00952381, 0.        ],\n",
       "       [0.        , 0.        , 0.01904762, 0.        , 0.00952381,\n",
       "        0.06666667, 0.06666667, 0.00952381, 0.        ],\n",
       "       [0.        , 0.        , 0.03809524, 0.02857143, 0.08571429,\n",
       "        0.17142857, 0.16190476, 0.08571429, 0.        ],\n",
       "       [0.        , 0.00952381, 0.01904762, 0.11428571, 0.2       ,\n",
       "        0.34285714, 0.4952381 , 0.23809524, 0.00952381],\n",
       "       [0.        , 0.02857143, 0.03809524, 0.2       , 0.41904762,\n",
       "        0.87619048, 0.97142857, 0.31428571, 0.02857143],\n",
       "       [0.00952381, 0.00952381, 0.03809524, 0.17142857, 0.47619048,\n",
       "        1.        , 0.81904762, 0.32380952, 0.03809524],\n",
       "       [0.        , 0.        , 0.00952381, 0.05714286, 0.18095238,\n",
       "        0.43809524, 0.46666667, 0.15238095, 0.00952381],\n",
       "       [0.        , 0.        , 0.        , 0.01904762, 0.03809524,\n",
       "        0.01904762, 0.08571429, 0.01904762, 0.01904762]])"
      ]
     },
     "execution_count": 302,
     "metadata": {},
     "output_type": "execute_result"
    }
   ],
   "source": [
    "zel"
   ]
  },
  {
   "cell_type": "code",
   "execution_count": 278,
   "metadata": {},
   "outputs": [
    {
     "name": "stdout",
     "output_type": "stream",
     "text": [
      "Help on function histogram2d in module numpy:\n",
      "\n",
      "histogram2d(x, y, bins=10, range=None, normed=None, weights=None, density=None)\n",
      "    Compute the bi-dimensional histogram of two data samples.\n",
      "    \n",
      "    Parameters\n",
      "    ----------\n",
      "    x : array_like, shape (N,)\n",
      "        An array containing the x coordinates of the points to be\n",
      "        histogrammed.\n",
      "    y : array_like, shape (N,)\n",
      "        An array containing the y coordinates of the points to be\n",
      "        histogrammed.\n",
      "    bins : int or array_like or [int, int] or [array, array], optional\n",
      "        The bin specification:\n",
      "    \n",
      "          * If int, the number of bins for the two dimensions (nx=ny=bins).\n",
      "          * If array_like, the bin edges for the two dimensions\n",
      "            (x_edges=y_edges=bins).\n",
      "          * If [int, int], the number of bins in each dimension\n",
      "            (nx, ny = bins).\n",
      "          * If [array, array], the bin edges in each dimension\n",
      "            (x_edges, y_edges = bins).\n",
      "          * A combination [int, array] or [array, int], where int\n",
      "            is the number of bins and array is the bin edges.\n",
      "    \n",
      "    range : array_like, shape(2,2), optional\n",
      "        The leftmost and rightmost edges of the bins along each dimension\n",
      "        (if not specified explicitly in the `bins` parameters):\n",
      "        ``[[xmin, xmax], [ymin, ymax]]``. All values outside of this range\n",
      "        will be considered outliers and not tallied in the histogram.\n",
      "    density : bool, optional\n",
      "        If False, the default, returns the number of samples in each bin.\n",
      "        If True, returns the probability *density* function at the bin,\n",
      "        ``bin_count / sample_count / bin_area``.\n",
      "    normed : bool, optional\n",
      "        An alias for the density argument that behaves identically. To avoid\n",
      "        confusion with the broken normed argument to `histogram`, `density`\n",
      "        should be preferred.\n",
      "    weights : array_like, shape(N,), optional\n",
      "        An array of values ``w_i`` weighing each sample ``(x_i, y_i)``.\n",
      "        Weights are normalized to 1 if `normed` is True. If `normed` is\n",
      "        False, the values of the returned histogram are equal to the sum of\n",
      "        the weights belonging to the samples falling into each bin.\n",
      "    \n",
      "    Returns\n",
      "    -------\n",
      "    H : ndarray, shape(nx, ny)\n",
      "        The bi-dimensional histogram of samples `x` and `y`. Values in `x`\n",
      "        are histogrammed along the first dimension and values in `y` are\n",
      "        histogrammed along the second dimension.\n",
      "    xedges : ndarray, shape(nx+1,)\n",
      "        The bin edges along the first dimension.\n",
      "    yedges : ndarray, shape(ny+1,)\n",
      "        The bin edges along the second dimension.\n",
      "    \n",
      "    See Also\n",
      "    --------\n",
      "    histogram : 1D histogram\n",
      "    histogramdd : Multidimensional histogram\n",
      "    \n",
      "    Notes\n",
      "    -----\n",
      "    When `normed` is True, then the returned histogram is the sample\n",
      "    density, defined such that the sum over bins of the product\n",
      "    ``bin_value * bin_area`` is 1.\n",
      "    \n",
      "    Please note that the histogram does not follow the Cartesian convention\n",
      "    where `x` values are on the abscissa and `y` values on the ordinate\n",
      "    axis.  Rather, `x` is histogrammed along the first dimension of the\n",
      "    array (vertical), and `y` along the second dimension of the array\n",
      "    (horizontal).  This ensures compatibility with `histogramdd`.\n",
      "    \n",
      "    Examples\n",
      "    --------\n",
      "    >>> from matplotlib.image import NonUniformImage\n",
      "    >>> import matplotlib.pyplot as plt\n",
      "    \n",
      "    Construct a 2-D histogram with variable bin width. First define the bin\n",
      "    edges:\n",
      "    \n",
      "    >>> xedges = [0, 1, 3, 5]\n",
      "    >>> yedges = [0, 2, 3, 4, 6]\n",
      "    \n",
      "    Next we create a histogram H with random bin content:\n",
      "    \n",
      "    >>> x = np.random.normal(2, 1, 100)\n",
      "    >>> y = np.random.normal(1, 1, 100)\n",
      "    >>> H, xedges, yedges = np.histogram2d(x, y, bins=(xedges, yedges))\n",
      "    >>> # Histogram does not follow Cartesian convention (see Notes),\n",
      "    >>> # therefore transpose H for visualization purposes.\n",
      "    >>> H = H.T\n",
      "    \n",
      "    :func:`imshow <matplotlib.pyplot.imshow>` can only display square bins:\n",
      "    \n",
      "    >>> fig = plt.figure(figsize=(7, 3))\n",
      "    >>> ax = fig.add_subplot(131, title='imshow: square bins')\n",
      "    >>> plt.imshow(H, interpolation='nearest', origin='lower',\n",
      "    ...         extent=[xedges[0], xedges[-1], yedges[0], yedges[-1]])\n",
      "    <matplotlib.image.AxesImage object at 0x...>\n",
      "    \n",
      "    :func:`pcolormesh <matplotlib.pyplot.pcolormesh>` can display actual edges:\n",
      "    \n",
      "    >>> ax = fig.add_subplot(132, title='pcolormesh: actual edges',\n",
      "    ...         aspect='equal')\n",
      "    >>> X, Y = np.meshgrid(xedges, yedges)\n",
      "    >>> ax.pcolormesh(X, Y, H)\n",
      "    <matplotlib.collections.QuadMesh object at 0x...>\n",
      "    \n",
      "    :class:`NonUniformImage <matplotlib.image.NonUniformImage>` can be used to\n",
      "    display actual bin edges with interpolation:\n",
      "    \n",
      "    >>> ax = fig.add_subplot(133, title='NonUniformImage: interpolated',\n",
      "    ...         aspect='equal', xlim=xedges[[0, -1]], ylim=yedges[[0, -1]])\n",
      "    >>> im = NonUniformImage(ax, interpolation='bilinear')\n",
      "    >>> xcenters = (xedges[:-1] + xedges[1:]) / 2\n",
      "    >>> ycenters = (yedges[:-1] + yedges[1:]) / 2\n",
      "    >>> im.set_data(xcenters, ycenters, H)\n",
      "    >>> ax.images.append(im)\n",
      "    >>> plt.show()\n",
      "    \n",
      "    It is also possible to construct a 2-D histogram without specifying bin\n",
      "    edges:\n",
      "    \n",
      "    >>> # Generate non-symmetric test data\n",
      "    >>> n = 10000\n",
      "    >>> x = np.linspace(1, 100, n)\n",
      "    >>> y = 2*np.log(x) + np.random.rand(n) - 0.5\n",
      "    >>> # Compute 2d histogram. Note the order of x/y and xedges/yedges\n",
      "    >>> H, yedges, xedges = np.histogram2d(y, x, bins=20)\n",
      "    \n",
      "    Now we can plot the histogram using\n",
      "    :func:`pcolormesh <matplotlib.pyplot.pcolormesh>`, and a\n",
      "    :func:`hexbin <matplotlib.pyplot.hexbin>` for comparison.\n",
      "    \n",
      "    >>> # Plot histogram using pcolormesh\n",
      "    >>> fig, (ax1, ax2) = plt.subplots(ncols=2, sharey=True)\n",
      "    >>> ax1.pcolormesh(xedges, yedges, H, cmap='rainbow')\n",
      "    >>> ax1.plot(x, 2*np.log(x), 'k-')\n",
      "    >>> ax1.set_xlim(x.min(), x.max())\n",
      "    >>> ax1.set_ylim(y.min(), y.max())\n",
      "    >>> ax1.set_xlabel('x')\n",
      "    >>> ax1.set_ylabel('y')\n",
      "    >>> ax1.set_title('histogram2d')\n",
      "    >>> ax1.grid()\n",
      "    \n",
      "    >>> # Create hexbin plot for comparison\n",
      "    >>> ax2.hexbin(x, y, gridsize=20, cmap='rainbow')\n",
      "    >>> ax2.plot(x, 2*np.log(x), 'k-')\n",
      "    >>> ax2.set_title('hexbin')\n",
      "    >>> ax2.set_xlim(x.min(), x.max())\n",
      "    >>> ax2.set_xlabel('x')\n",
      "    >>> ax2.grid()\n",
      "    \n",
      "    >>> plt.show()\n",
      "\n"
     ]
    }
   ],
   "source": [
    "help(np.histogram2d)"
   ]
  },
  {
   "cell_type": "code",
   "execution_count": 261,
   "metadata": {},
   "outputs": [
    {
     "data": {
      "text/plain": [
       "6.25"
      ]
     },
     "execution_count": 261,
     "metadata": {},
     "output_type": "execute_result"
    }
   ],
   "source": [
    "histogram.mean()"
   ]
  },
  {
   "cell_type": "code",
   "execution_count": 266,
   "metadata": {},
   "outputs": [
    {
     "data": {
      "text/plain": [
       "(1000, 2)"
      ]
     },
     "execution_count": 266,
     "metadata": {},
     "output_type": "execute_result"
    }
   ],
   "source": [
    "x_dist.shape"
   ]
  },
  {
   "cell_type": "code",
   "execution_count": 270,
   "metadata": {},
   "outputs": [
    {
     "data": {
      "text/plain": [
       "array([0.00048805, 0.00047223, 0.0009643 , 0.00096431])"
      ]
     },
     "execution_count": 270,
     "metadata": {},
     "output_type": "execute_result"
    }
   ],
   "source": [
    "point_gpd.total_bounds"
   ]
  },
  {
   "cell_type": "code",
   "execution_count": 274,
   "metadata": {},
   "outputs": [
    {
     "data": {
      "text/plain": [
       "94.66609204744822"
      ]
     },
     "execution_count": 274,
     "metadata": {},
     "output_type": "execute_result"
    }
   ],
   "source": [
    "x_dist[0].max()"
   ]
  },
  {
   "cell_type": "code",
   "execution_count": 15,
   "metadata": {},
   "outputs": [
    {
     "name": "stdout",
     "output_type": "stream",
     "text": [
      "0.00765\n",
      "765\n"
     ]
    }
   ],
   "source": [
    "import random\n",
    "\n",
    "# Define the bounds of the simulation\n",
    "x_min = 0\n",
    "x_max = 100\n",
    "y_min = 0\n",
    "y_max = 100\n",
    "\n",
    "# Number of iterations to run the simulation\n",
    "num_iterations = 100000\n",
    "\n",
    "# Counter to keep track of the number of points that fall within the region of interest\n",
    "count = 0\n",
    "\n",
    "# Run the simulation\n",
    "for i in range(num_iterations):\n",
    "  # Generate a random point within the bounds of the simulation\n",
    "  x = random.uniform(x_min, x_max)\n",
    "  y = random.uniform(y_min, y_max)\n",
    "\n",
    "  # Check if the point falls within the region of interest\n",
    "  if x**2 + y**2 <= 100:\n",
    "    count += 1\n",
    "\n",
    "# Calculate the probability that a randomly generated point falls within the region of interest\n",
    "probability = count / num_iterations\n",
    "print(probability)\n",
    "print(count)"
   ]
  },
  {
   "cell_type": "code",
   "execution_count": null,
   "metadata": {},
   "outputs": [],
   "source": []
  }
 ],
 "metadata": {
  "kernelspec": {
   "display_name": "Python 3 (ipykernel)",
   "language": "python",
   "name": "python3"
  },
  "language_info": {
   "codemirror_mode": {
    "name": "ipython",
    "version": 3
   },
   "file_extension": ".py",
   "mimetype": "text/x-python",
   "name": "python",
   "nbconvert_exporter": "python",
   "pygments_lexer": "ipython3",
   "version": "3.10.6"
  },
  "vscode": {
   "interpreter": {
    "hash": "e1912d2232e61b75ce92d7aa23bc8b095093cccdcafbeb3fccfcdbfc6fd8fcc6"
   }
  }
 },
 "nbformat": 4,
 "nbformat_minor": 4
}
