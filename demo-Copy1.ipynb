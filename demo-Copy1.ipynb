{
 "cells": [
  {
   "cell_type": "markdown",
   "metadata": {
    "tags": []
   },
   "source": [
    "# UPT DEMO"
   ]
  },
  {
   "cell_type": "code",
   "execution_count": null,
   "metadata": {},
   "outputs": [],
   "source": [
    "import numpy as np\n",
    "import pandas as pd\n",
    "import geopandas as gpd\n",
    "from tesspy import Tessellation"
   ]
  },
  {
   "cell_type": "code",
   "execution_count": 2,
   "metadata": {},
   "outputs": [],
   "source": [
    "def model_CAMIC(gdf, attr_weight_dict, feature_threshold):\n",
    "    gdf = gdf.copy()\n",
    "    area_threshold = feature_threshold*gdf.iloc[[0]].area[0]\n",
    "    \n",
    "    for attr_weight in attr_weight_dict:\n",
    "        gdf[attr_weight] = gdf[attr_weight].apply(lambda x : 0 if x < area_threshold else attr_weight_dict[attr_weight])\n",
    "        \n",
    "    return (gdf)"
   ]
  },
  {
   "cell_type": "code",
   "execution_count": 3,
   "metadata": {},
   "outputs": [
    {
     "name": "stderr",
     "output_type": "stream",
     "text": [
      "\n",
      "KeyboardInterrupt\n",
      "\n"
     ]
    }
   ],
   "source": [
    "test_df['b'] = np.random.normal(0,1, size=10)"
   ]
  },
  {
   "cell_type": "code",
   "execution_count": null,
   "metadata": {},
   "outputs": [],
   "source": [
    "test_df"
   ]
  },
  {
   "cell_type": "code",
   "execution_count": null,
   "metadata": {},
   "outputs": [],
   "source": [
    "import pandas as pd\n",
    "import numpy as np\n",
    "\n",
    "test_df = pd.DataFrame({'a':np.random.random(10), 'b':np.arange(10)})"
   ]
  },
  {
   "cell_type": "code",
   "execution_count": null,
   "metadata": {},
   "outputs": [],
   "source": [
    "test_df['b'] = test_df['b'].apply(lambda x : 0 if x < 3 else x)"
   ]
  },
  {
   "cell_type": "code",
   "execution_count": null,
   "metadata": {},
   "outputs": [],
   "source": [
    "for dct in point_dict:\n",
    "    test_df[dct] = point_dict[dct]"
   ]
  },
  {
   "cell_type": "code",
   "execution_count": null,
   "metadata": {},
   "outputs": [],
   "source": [
    "test_df"
   ]
  },
  {
   "cell_type": "markdown",
   "metadata": {
    "tags": []
   },
   "source": [
    "## Crash Dynamic"
   ]
  },
  {
   "cell_type": "code",
   "execution_count": 4,
   "metadata": {},
   "outputs": [],
   "source": [
    "drone_profile={\n",
    "    'mass': 1,\n",
    "    'g': 9.81,\n",
    "    'cd': 0.02,\n",
    "    'cl': 0,\n",
    "    'flight_lv': 400\n",
    "    }\n"
   ]
  },
  {
   "cell_type": "code",
   "execution_count": 5,
   "metadata": {
    "tags": []
   },
   "outputs": [],
   "source": [
    "from pyproj import Proj\n",
    "import pandas as pd\n",
    "import geopandas as gpd\n",
    "import numpy as np\n",
    "\n",
    "#from . import ballistic_model, glide_model\n",
    "\n",
    "def ballistic_model(n_sampling, ac_profile):\n",
    "    sample_points = np.random.normal(15, 3, size=(n_sampling))\n",
    "    mass = ac_profile['mass']\n",
    "    g = ac_profile['g']\n",
    "    cd = ac_profile['cd']\n",
    "    flight_lv = ac_profile['flight_lv']\n",
    "    \n",
    "    gamma = np.sqrt(mass*g/cd)\n",
    "    log2 = np.log(2)\n",
    "    cd_z = cd*flight_lv\n",
    "    m_per_c = mass/cd\n",
    "    m_gamma = mass*gamma\n",
    "    \n",
    "    #Warning! Mathematically untested\n",
    "    def ballistic(v_sample):\n",
    "        point_list = []\n",
    "        for v in v_sample:\n",
    "            angle_degree = np.radians(np.random.uniform(0,360))\n",
    "            ballistic_x = m_per_c*np.log(1+(v*((mass*log2+cd_z)/(m_gamma))))\n",
    "            ballistic_y = m_per_c*np.log(1+(v*((mass*log2+cd_z)/(m_gamma))))\n",
    "            \n",
    "            radial_ballistic_func_x = lambda angle :ballistic_x*np.cos(angle)\n",
    "            radial_ballistic_func_y = lambda angle :ballistic_y*np.sin(angle)\n",
    "            x_point = radial_ballistic_func_x(angle_degree)\n",
    "            y_point = radial_ballistic_func_y(angle_degree)\n",
    "            point_list.append((x_point,y_point))\n",
    "        return (np.array(point_list))\n",
    "\n",
    "    crash_point = ballistic(sample_points)\n",
    "    crash_point = np.column_stack((crash_point))\n",
    "    return(crash_point)\n",
    "\n",
    "\n",
    "class base_impact_model:\n",
    "    def __init__(self, model, ac_profile, crs, n_sampling = 1000):\n",
    "        self.model_type = model\n",
    "        self.crs = crs\n",
    "        self.n_sampling = n_sampling\n",
    "        self.ac_profile = ac_profile\n",
    "        self.get_function()\n",
    "    \n",
    "    def get_function(self):\n",
    "        if self.model_type == \"ballistic\":\n",
    "            self.model_func = ballistic_model\n",
    "        if self.model_type == \"glide\":\n",
    "            pass\n",
    "    \n",
    "    def run_model(self):\n",
    "        self.impact_point = self.model_func(self.n_sampling, self.ac_profile)\n",
    "        self.binning()\n",
    "        self.array_to_gpd()\n",
    "        self.pd_to_gpd()\n",
    "        return(self.mask_gdf)\n",
    "    \n",
    "    def run_unbinned_model(self):\n",
    "        self.impact_point = self.model_func(self.n_sampling, self.ac_profile)\n",
    "        self.binning()\n",
    "        return(self.historgram )\n",
    "    \n",
    "    def binning(self):\n",
    "        bins = [np.linspace(self.impact_point.min(), self.impact_point.max(), 10), np.linspace(self.impact_point.min(), self.impact_point.max(), 10)]\n",
    "        histogram, x_bin, y_bin  = np.histogram2d(self.impact_point[0], self.impact_point[1], bins=bins)\n",
    "        self.historgram = histogram\n",
    "        \n",
    "        self.n_point_map = {}\n",
    "        self.locmap_map = {}\n",
    "        self.n_point_map.setdefault(\"N_points\", [])\n",
    "        self.locmap_map.setdefault(\"x_loc\", [])\n",
    "        self.locmap_map.setdefault(\"y_loc\", [])\n",
    "        for ith, _ in enumerate(histogram):\n",
    "            for jth, point in enumerate(histogram[ith]):\n",
    "                self.n_point_map['N_points'].append(point)\n",
    "                self.locmap_map['x_loc'].append(x_bin[ith])\n",
    "                self.locmap_map['y_loc'].append(y_bin[jth])\n",
    "                \n",
    "    def array_to_gpd(self):\n",
    "        self.n_point_df = pd.DataFrame(self.n_point_map)\n",
    "        self.locmap_df = pd.DataFrame(self.locmap_map)\n",
    "        self.mask_df = self.n_point_df.join(self.locmap_df)\n",
    "        \n",
    "    def pd_to_gpd(self):\n",
    "        self.mask_gdf = gpd.GeoDataFrame(self.mask_df.copy(), geometry=gpd.points_from_xy(self.mask_df['x_loc'], self.mask_df['y_loc']))\n",
    "        self.mask_gdf.drop(['x_loc','y_loc'], axis=1, inplace = True)\n",
    "\n",
    "        #Dividde N_point by sample size\n",
    "        self.mask_gdf['N_points'] = self.mask_gdf['N_points']/self.n_sampling\n",
    "        self.mask_gdf = self.mask_gdf.set_crs(self.crs)\n"
   ]
  },
  {
   "cell_type": "code",
   "execution_count": 7,
   "metadata": {},
   "outputs": [
    {
     "data": {
      "text/plain": [
       "<AxesSubplot: >"
      ]
     },
     "execution_count": 7,
     "metadata": {},
     "output_type": "execute_result"
    },
    {
     "data": {
      "image/png": "[encoded data removed]",
      "text/plain": [
       "<Figure size 640x480 with 1 Axes>"
      ]
     },
     "metadata": {},
     "output_type": "display_data"
    }
   ],
   "source": [
    "b = base_impact_model(\"ballistic\", drone_profile,depok_school.crs)\n",
    "gdf_mask = b.run_model()\n",
    "gdf_mask.plot()"
   ]
  },
  {
   "cell_type": "code",
   "execution_count": 1,
   "metadata": {},
   "outputs": [
    {
     "ename": "NameError",
     "evalue": "name 'np' is not defined",
     "output_type": "error",
     "traceback": [
      "\u001b[1;31m---------------------------------------------------------------------------\u001b[0m",
      "\u001b[1;31mNameError\u001b[0m                                 Traceback (most recent call last)",
      "Cell \u001b[1;32mIn [1], line 2\u001b[0m\n\u001b[0;32m      1\u001b[0m \u001b[38;5;28;01mfrom\u001b[39;00m \u001b[38;5;21;01mupt\u001b[39;00m\u001b[38;5;21;01m.\u001b[39;00m\u001b[38;5;21;01mriskcalculator\u001b[39;00m\u001b[38;5;21;01m.\u001b[39;00m\u001b[38;5;21;01msjoin_mask\u001b[39;00m \u001b[38;5;28;01mimport\u001b[39;00m sjoin_mask\n\u001b[1;32m----> 2\u001b[0m idx \u001b[38;5;241m=\u001b[39m \u001b[43mnp\u001b[49m\u001b[38;5;241m.\u001b[39marange(\u001b[38;5;241m0\u001b[39m,depok_school\u001b[38;5;241m.\u001b[39mshape[\u001b[38;5;241m0\u001b[39m])\n\u001b[0;32m      3\u001b[0m risk \u001b[38;5;241m=\u001b[39m sjoin_mask(idx,gdf_mask,depok_school)\n",
      "\u001b[1;31mNameError\u001b[0m: name 'np' is not defined"
     ]
    }
   ],
   "source": [
    "from upt.riskcalculator.sjoin_mask import sjoin_mask\n",
    "idx = np.arange(0,depok_school.shape[0])\n",
    "risk = sjoin_mask(idx,gdf_mask,depok_school)"
   ]
  },
  {
   "cell_type": "code",
   "execution_count": 27,
   "metadata": {},
   "outputs": [
    {
     "data": {
      "text/plain": [
       "5.673196081712996"
      ]
     },
     "execution_count": 27,
     "metadata": {},
     "output_type": "execute_result"
    }
   ],
   "source": [
    "np.array(risk).sum()"
   ]
  },
  {
   "cell_type": "code",
   "execution_count": 23,
   "metadata": {},
   "outputs": [
    {
     "data": {
      "text/html": [
       "<div>\n",
       "<style scoped>\n",
       "    .dataframe tbody tr th:only-of-type {\n",
       "        vertical-align: middle;\n",
       "    }\n",
       "\n",
       "    .dataframe tbody tr th {\n",
       "        vertical-align: top;\n",
       "    }\n",
       "\n",
       "    .dataframe thead th {\n",
       "        text-align: right;\n",
       "    }\n",
       "</style>\n",
       "<table border=\"1\" class=\"dataframe\">\n",
       "  <thead>\n",
       "    <tr style=\"text-align: right;\">\n",
       "      <th></th>\n",
       "      <th>geometry</th>\n",
       "      <th>quadkey</th>\n",
       "      <th>id</th>\n",
       "      <th>area</th>\n",
       "      <th>risk</th>\n",
       "    </tr>\n",
       "  </thead>\n",
       "  <tbody>\n",
       "    <tr>\n",
       "      <th>4240</th>\n",
       "      <td>POLYGON ((11881562.769 -717093.981, 11881562.7...</td>\n",
       "      <td>31001211311203102120</td>\n",
       "      <td>4240</td>\n",
       "      <td>172.991617</td>\n",
       "      <td>0.000000</td>\n",
       "    </tr>\n",
       "    <tr>\n",
       "      <th>21065</th>\n",
       "      <td>POLYGON ((11884429.158 -714609.777, 11884429.1...</td>\n",
       "      <td>31001211311210103113</td>\n",
       "      <td>21065</td>\n",
       "      <td>270.240127</td>\n",
       "      <td>0.000000</td>\n",
       "    </tr>\n",
       "    <tr>\n",
       "      <th>24274</th>\n",
       "      <td>POLYGON ((11884964.217 -714915.526, 11884964.2...</td>\n",
       "      <td>31001211311210131103</td>\n",
       "      <td>24274</td>\n",
       "      <td>112.904704</td>\n",
       "      <td>0.000000</td>\n",
       "    </tr>\n",
       "    <tr>\n",
       "      <th>25166</th>\n",
       "      <td>POLYGON ((11885117.091 -714036.500, 11885117.0...</td>\n",
       "      <td>31001211311033222021</td>\n",
       "      <td>25166</td>\n",
       "      <td>158.216889</td>\n",
       "      <td>0.000000</td>\n",
       "    </tr>\n",
       "    <tr>\n",
       "      <th>50071</th>\n",
       "      <td>POLYGON ((11888098.135 -713272.129, 11888098.1...</td>\n",
       "      <td>31001211311122201331</td>\n",
       "      <td>50071</td>\n",
       "      <td>501.588380</td>\n",
       "      <td>4.698070</td>\n",
       "    </tr>\n",
       "    <tr>\n",
       "      <th>50437</th>\n",
       "      <td>POLYGON ((11888136.354 -713233.911, 11888136.3...</td>\n",
       "      <td>31001211311122210202</td>\n",
       "      <td>50437</td>\n",
       "      <td>763.755465</td>\n",
       "      <td>0.000000</td>\n",
       "    </tr>\n",
       "    <tr>\n",
       "      <th>50438</th>\n",
       "      <td>POLYGON ((11888136.354 -713272.129, 11888136.3...</td>\n",
       "      <td>31001211311122210220</td>\n",
       "      <td>50438</td>\n",
       "      <td>821.524016</td>\n",
       "      <td>0.000000</td>\n",
       "    </tr>\n",
       "    <tr>\n",
       "      <th>53196</th>\n",
       "      <td>POLYGON ((11888442.102 -716253.174, 11888442.1...</td>\n",
       "      <td>31001211311300231200</td>\n",
       "      <td>53196</td>\n",
       "      <td>278.765059</td>\n",
       "      <td>0.000000</td>\n",
       "    </tr>\n",
       "    <tr>\n",
       "      <th>59385</th>\n",
       "      <td>POLYGON ((11889168.254 -713195.692, 11889168.2...</td>\n",
       "      <td>31001211311122301211</td>\n",
       "      <td>59385</td>\n",
       "      <td>319.637263</td>\n",
       "      <td>0.000000</td>\n",
       "    </tr>\n",
       "    <tr>\n",
       "      <th>60584</th>\n",
       "      <td>POLYGON ((11889321.128 -713539.659, 11889321.1...</td>\n",
       "      <td>31001211311122303313</td>\n",
       "      <td>60584</td>\n",
       "      <td>114.375534</td>\n",
       "      <td>0.217053</td>\n",
       "    </tr>\n",
       "    <tr>\n",
       "      <th>60872</th>\n",
       "      <td>POLYGON ((11889359.346 -713539.659, 11889359.3...</td>\n",
       "      <td>31001211311122312202</td>\n",
       "      <td>60872</td>\n",
       "      <td>108.526331</td>\n",
       "      <td>0.000000</td>\n",
       "    </tr>\n",
       "    <tr>\n",
       "      <th>65942</th>\n",
       "      <td>POLYGON ((11890085.498 -712698.852, 11890085.4...</td>\n",
       "      <td>31001211311123020233</td>\n",
       "      <td>65942</td>\n",
       "      <td>168.329139</td>\n",
       "      <td>0.000000</td>\n",
       "    </tr>\n",
       "    <tr>\n",
       "      <th>69303</th>\n",
       "      <td>POLYGON ((11890582.339 -713386.785, 11890582.3...</td>\n",
       "      <td>31001211311123212002</td>\n",
       "      <td>69303</td>\n",
       "      <td>189.317305</td>\n",
       "      <td>0.000000</td>\n",
       "    </tr>\n",
       "    <tr>\n",
       "      <th>69304</th>\n",
       "      <td>POLYGON ((11890582.339 -713425.003, 11890582.3...</td>\n",
       "      <td>31001211311123212020</td>\n",
       "      <td>69304</td>\n",
       "      <td>461.952947</td>\n",
       "      <td>0.428400</td>\n",
       "    </tr>\n",
       "    <tr>\n",
       "      <th>69562</th>\n",
       "      <td>POLYGON ((11890620.557 -713425.003, 11890620.5...</td>\n",
       "      <td>31001211311123212021</td>\n",
       "      <td>69562</td>\n",
       "      <td>214.199923</td>\n",
       "      <td>0.189317</td>\n",
       "    </tr>\n",
       "    <tr>\n",
       "      <th>74638</th>\n",
       "      <td>POLYGON ((11891346.709 -718164.099, 11891346.7...</td>\n",
       "      <td>31001211311303300320</td>\n",
       "      <td>74638</td>\n",
       "      <td>209.228570</td>\n",
       "      <td>0.000000</td>\n",
       "    </tr>\n",
       "    <tr>\n",
       "      <th>75016</th>\n",
       "      <td>POLYGON ((11891423.146 -711590.515, 11891423.1...</td>\n",
       "      <td>31001211311121322130</td>\n",
       "      <td>75016</td>\n",
       "      <td>220.827969</td>\n",
       "      <td>0.000000</td>\n",
       "    </tr>\n",
       "    <tr>\n",
       "      <th>78271</th>\n",
       "      <td>POLYGON ((11891843.550 -714189.374, 11891843.5...</td>\n",
       "      <td>31001211311123332221</td>\n",
       "      <td>78271</td>\n",
       "      <td>139.866923</td>\n",
       "      <td>0.000000</td>\n",
       "    </tr>\n",
       "    <tr>\n",
       "      <th>97093</th>\n",
       "      <td>POLYGON ((11894213.097 -712431.322, 11894213.0...</td>\n",
       "      <td>31001211311132121111</td>\n",
       "      <td>97093</td>\n",
       "      <td>666.622122</td>\n",
       "      <td>0.000000</td>\n",
       "    </tr>\n",
       "    <tr>\n",
       "      <th>111478</th>\n",
       "      <td>POLYGON ((11896047.586 -713692.533, 11896047.5...</td>\n",
       "      <td>31001211311133231113</td>\n",
       "      <td>111478</td>\n",
       "      <td>140.356378</td>\n",
       "      <td>0.000000</td>\n",
       "    </tr>\n",
       "    <tr>\n",
       "      <th>111772</th>\n",
       "      <td>POLYGON ((11896085.805 -713730.752, 11896085.8...</td>\n",
       "      <td>31001211311133320020</td>\n",
       "      <td>111772</td>\n",
       "      <td>144.299915</td>\n",
       "      <td>0.140356</td>\n",
       "    </tr>\n",
       "    <tr>\n",
       "      <th>120853</th>\n",
       "      <td>POLYGON ((11897232.360 -718813.814, 11897232.3...</td>\n",
       "      <td>31001211311313331332</td>\n",
       "      <td>120853</td>\n",
       "      <td>303.835163</td>\n",
       "      <td>0.000000</td>\n",
       "    </tr>\n",
       "  </tbody>\n",
       "</table>\n",
       "</div>"
      ],
      "text/plain": [
       "                                                 geometry  \\\n",
       "4240    POLYGON ((11881562.769 -717093.981, 11881562.7...   \n",
       "21065   POLYGON ((11884429.158 -714609.777, 11884429.1...   \n",
       "24274   POLYGON ((11884964.217 -714915.526, 11884964.2...   \n",
       "25166   POLYGON ((11885117.091 -714036.500, 11885117.0...   \n",
       "50071   POLYGON ((11888098.135 -713272.129, 11888098.1...   \n",
       "50437   POLYGON ((11888136.354 -713233.911, 11888136.3...   \n",
       "50438   POLYGON ((11888136.354 -713272.129, 11888136.3...   \n",
       "53196   POLYGON ((11888442.102 -716253.174, 11888442.1...   \n",
       "59385   POLYGON ((11889168.254 -713195.692, 11889168.2...   \n",
       "60584   POLYGON ((11889321.128 -713539.659, 11889321.1...   \n",
       "60872   POLYGON ((11889359.346 -713539.659, 11889359.3...   \n",
       "65942   POLYGON ((11890085.498 -712698.852, 11890085.4...   \n",
       "69303   POLYGON ((11890582.339 -713386.785, 11890582.3...   \n",
       "69304   POLYGON ((11890582.339 -713425.003, 11890582.3...   \n",
       "69562   POLYGON ((11890620.557 -713425.003, 11890620.5...   \n",
       "74638   POLYGON ((11891346.709 -718164.099, 11891346.7...   \n",
       "75016   POLYGON ((11891423.146 -711590.515, 11891423.1...   \n",
       "78271   POLYGON ((11891843.550 -714189.374, 11891843.5...   \n",
       "97093   POLYGON ((11894213.097 -712431.322, 11894213.0...   \n",
       "111478  POLYGON ((11896047.586 -713692.533, 11896047.5...   \n",
       "111772  POLYGON ((11896085.805 -713730.752, 11896085.8...   \n",
       "120853  POLYGON ((11897232.360 -718813.814, 11897232.3...   \n",
       "\n",
       "                     quadkey      id        area      risk  \n",
       "4240    31001211311203102120    4240  172.991617  0.000000  \n",
       "21065   31001211311210103113   21065  270.240127  0.000000  \n",
       "24274   31001211311210131103   24274  112.904704  0.000000  \n",
       "25166   31001211311033222021   25166  158.216889  0.000000  \n",
       "50071   31001211311122201331   50071  501.588380  4.698070  \n",
       "50437   31001211311122210202   50437  763.755465  0.000000  \n",
       "50438   31001211311122210220   50438  821.524016  0.000000  \n",
       "53196   31001211311300231200   53196  278.765059  0.000000  \n",
       "59385   31001211311122301211   59385  319.637263  0.000000  \n",
       "60584   31001211311122303313   60584  114.375534  0.217053  \n",
       "60872   31001211311122312202   60872  108.526331  0.000000  \n",
       "65942   31001211311123020233   65942  168.329139  0.000000  \n",
       "69303   31001211311123212002   69303  189.317305  0.000000  \n",
       "69304   31001211311123212020   69304  461.952947  0.428400  \n",
       "69562   31001211311123212021   69562  214.199923  0.189317  \n",
       "74638   31001211311303300320   74638  209.228570  0.000000  \n",
       "75016   31001211311121322130   75016  220.827969  0.000000  \n",
       "78271   31001211311123332221   78271  139.866923  0.000000  \n",
       "97093   31001211311132121111   97093  666.622122  0.000000  \n",
       "111478  31001211311133231113  111478  140.356378  0.000000  \n",
       "111772  31001211311133320020  111772  144.299915  0.140356  \n",
       "120853  31001211311313331332  120853  303.835163  0.000000  "
      ]
     },
     "execution_count": 23,
     "metadata": {},
     "output_type": "execute_result"
    }
   ],
   "source": [
    "test_df"
   ]
  },
  {
   "cell_type": "code",
   "execution_count": null,
   "metadata": {},
   "outputs": [],
   "source": [
    "gdf_mask['N_points'].sum()"
   ]
  },
  {
   "cell_type": "code",
   "execution_count": 13,
   "metadata": {},
   "outputs": [],
   "source": [
    "test_df = depok_school[depok_school['area']>100]\n",
    "idx = np.arange(0,test_df.shape[0])"
   ]
  },
  {
   "cell_type": "code",
   "execution_count": null,
   "metadata": {},
   "outputs": [],
   "source": [
    "def sjoin_calculator(array_index, mask, gdf):\n",
    "    def sjoin_risk_sum(array_index):\n",
    "        mask_translate = mask.copy()\n",
    "        mask_translate['geometry'] = mask.translate(gdf.iloc[array_index][0].centroid.x,gdf.iloc[array_index][0].centroid.y)\n",
    "        sjoin_gp = gpd.sjoin(gdf, mask_translate)\n",
    "        risk = sjoin_gp['N_points'].multiply(sjoin_gp['area']).sum()\n",
    "        return(risk)\n",
    "    \n",
    "    result_list = []\n",
    "    with concurrent.futures.ThreadPoolExecutor() as executor:\n",
    "        results = executor.map(sjoin_risk_sum, idx)\n",
    "    \n",
    "        for result in results:\n",
    "            result_list.append(result)\n",
    "\n",
    "    return(result_list)\n",
    "\n",
    "risk_calc = sjoin_risk(idx, gdf_mask, test_df)"
   ]
  },
  {
   "cell_type": "code",
   "execution_count": null,
   "metadata": {},
   "outputs": [],
   "source": [
    "depok_school['risk']=result_list"
   ]
  },
  {
   "cell_type": "code",
   "execution_count": null,
   "metadata": {},
   "outputs": [],
   "source": [
    "fig,ax = plt.subplots(figsize = (10,10)) \n",
    "depok_school.plot(ax=ax)\n",
    "gdf_mask.plot(ax=ax)"
   ]
  },
  {
   "cell_type": "code",
   "execution_count": null,
   "metadata": {},
   "outputs": [],
   "source": [
    "af['area'].unique()"
   ]
  },
  {
   "cell_type": "code",
   "execution_count": null,
   "metadata": {},
   "outputs": [],
   "source": [
    "af.shape"
   ]
  },
  {
   "cell_type": "code",
   "execution_count": null,
   "metadata": {},
   "outputs": [],
   "source": [
    "af['N_points'].unique()"
   ]
  },
  {
   "cell_type": "code",
   "execution_count": null,
   "metadata": {},
   "outputs": [],
   "source": [
    "gdf_mask.plot()"
   ]
  },
  {
   "cell_type": "code",
   "execution_count": null,
   "metadata": {},
   "outputs": [],
   "source": [
    "depok_school.plot()"
   ]
  },
  {
   "cell_type": "code",
   "execution_count": null,
   "metadata": {},
   "outputs": [],
   "source": [
    "ax = depok_school.plot(markersize=.1, figsize=(12, 8), cmap='jet')\n",
    "gdf_mask.plot()\n",
    "plt.autoscale(False)"
   ]
  },
  {
   "cell_type": "code",
   "execution_count": null,
   "metadata": {},
   "outputs": [],
   "source": [
    "depok_school.centroid"
   ]
  },
  {
   "cell_type": "code",
   "execution_count": null,
   "metadata": {},
   "outputs": [],
   "source": [
    "ballistic_model.mask_df"
   ]
  },
  {
   "cell_type": "code",
   "execution_count": null,
   "metadata": {},
   "outputs": [],
   "source": [
    "a, b = p(gdf_mask.centroid.x, gdf_mask.centroid.y)"
   ]
  },
  {
   "cell_type": "code",
   "execution_count": null,
   "metadata": {},
   "outputs": [],
   "source": [
    "gdf_mask.plot(column=\"N_points\")"
   ]
  },
  {
   "cell_type": "code",
   "execution_count": null,
   "metadata": {},
   "outputs": [],
   "source": [
    "# ballistic_model = base_impact_model(\"ballistic\", drone_profile,depok_school.estimate_utm_crs())\n",
    "# gdf_mask = ballistic_model.mask_gdf\n",
    "gdf_mask.plot(column=\"N_points\")"
   ]
  },
  {
   "cell_type": "code",
   "execution_count": null,
   "metadata": {},
   "outputs": [],
   "source": [
    "gdf_mask"
   ]
  },
  {
   "cell_type": "code",
   "execution_count": null,
   "metadata": {},
   "outputs": [],
   "source": []
  },
  {
   "cell_type": "code",
   "execution_count": null,
   "metadata": {},
   "outputs": [],
   "source": [
    "drs"
   ]
  },
  {
   "cell_type": "code",
   "execution_count": null,
   "metadata": {},
   "outputs": [],
   "source": [
    "drs=depok_school.estimate_utm_crs().coordinate_operation"
   ]
  },
  {
   "cell_type": "code",
   "execution_count": null,
   "metadata": {},
   "outputs": [],
   "source": []
  },
  {
   "cell_type": "code",
   "execution_count": null,
   "metadata": {},
   "outputs": [],
   "source": [
    "def ballistic_model(n_sampling, ac_profile):\n",
    "    sample_points = np.random.normal(15, 3, size=(n_sampling))\n",
    "    mass = ac_profile['mass']\n",
    "    g = ac_profile['g']\n",
    "    cd = ac_profile['cd']\n",
    "    flight_lv = ac_profile['flight_lv']\n",
    "    \n",
    "    gamma = np.sqrt(mass*g/cd)\n",
    "    log2 = np.log(2)\n",
    "    cd_z = cd*flight_lv\n",
    "    m_per_c = mass/cd\n",
    "    m_gamma = mass*gamma\n",
    "    \n",
    "    #Warning! Mathematically untested\n",
    "    def ballistic(v_sample):\n",
    "        point_list = []\n",
    "        for v in v_sample:\n",
    "            angle_degree = np.radians(np.random.uniform(0,360))\n",
    "            ballistic_x = m_per_c*np.log(1+(v*((mass*log2+cd_z)/(m_gamma))))\n",
    "            ballistic_y = m_per_c*np.log(1+(v*((mass*log2+cd_z)/(m_gamma))))\n",
    "            \n",
    "            radial_ballistic_func_x = lambda angle :ballistic_x*np.cos(angle)\n",
    "            radial_ballistic_func_y = lambda angle :ballistic_y*np.sin(angle)\n",
    "            x_point = radial_ballistic_func_x(angle_degree)\n",
    "            y_point = radial_ballistic_func_y(angle_degree)\n",
    "            point_list.append((x_point,y_point))\n",
    "        return (np.array(point_list))\n",
    "\n",
    "    crash_point = ballistic(sample_points)\n",
    "    crash_point = np.column_stack((crash_point))\n",
    "    return(crash_point)"
   ]
  },
  {
   "cell_type": "code",
   "execution_count": null,
   "metadata": {},
   "outputs": [],
   "source": [
    "dist = ballistic_model(1000,aircraft_profile)"
   ]
  },
  {
   "cell_type": "code",
   "execution_count": null,
   "metadata": {},
   "outputs": [],
   "source": [
    "bins = [np.linspace(dist.min(), dist.max(), 10), np.linspace(dist.min(), dist.max(), 10)]\n",
    "histogram, x_bin, y_bin  = np.histogram2d(dist[0], dist[1], bins=bins)\n",
    "\n",
    "\n",
    "n_point_map = {}\n",
    "locmap_map = {}\n",
    "n_point_map.setdefault(\"N_points\", [])\n",
    "locmap_map.setdefault(\"x_loc\", [])\n",
    "locmap_map.setdefault(\"y_loc\", [])\n",
    "for ith, _ in enumerate(histogram):\n",
    "    for jth, point in enumerate(histogram[ith]):\n",
    "        n_point_map['N_points'].append(point)\n",
    "        locmap_map['x_loc'].append(x_bin[ith])\n",
    "        locmap_map['y_loc'].append(y_bin[jth])\n",
    "        "
   ]
  },
  {
   "cell_type": "code",
   "execution_count": null,
   "metadata": {},
   "outputs": [],
   "source": [
    "import pandas as pd\n",
    "\n",
    "n_point_df = pd.DataFrame(n_point_map)\n",
    "locmap_df = pd.DataFrame(locmap_map)\n",
    "mask_df = n_point_df.join(locmap_df)"
   ]
  },
  {
   "cell_type": "code",
   "execution_count": null,
   "metadata": {},
   "outputs": [],
   "source": [
    "from pyproj import Proj\n",
    "p = Proj(proj='utm',zone=48,ellps='WGS84', preserve_units=False)\n",
    "mask_df['x_loc'], mask_df['y_loc'] = p(mask_df['x_loc'], mask_df['y_loc'], inverse=True)"
   ]
  },
  {
   "cell_type": "code",
   "execution_count": null,
   "metadata": {},
   "outputs": [],
   "source": [
    "mask_df"
   ]
  },
  {
   "cell_type": "code",
   "execution_count": null,
   "metadata": {},
   "outputs": [],
   "source": [
    "import geopandas as gpd\n",
    "mask_gdf = gpd.GeoDataFrame(mask_df.copy(), geometry=gpd.points_from_xy(mask_df['x_loc'], mask_df['y_loc']))\n",
    "mask_gdf.drop(['x_loc','y_loc'], axis=1, inplace = True)\n",
    "\n",
    "#Dividde N_point by sample size\n",
    "mask_gdf['N_points'] = mask_gdf['N_points']/1000"
   ]
  },
  {
   "cell_type": "code",
   "execution_count": null,
   "metadata": {},
   "outputs": [],
   "source": [
    "mask_gdf.plot(column='N_points')"
   ]
  },
  {
   "cell_type": "code",
   "execution_count": null,
   "metadata": {},
   "outputs": [],
   "source": [
    "from matplotlib import pyplot as plt \n",
    "plt.scatter(dist[0],dist[1],s=1)"
   ]
  },
  {
   "cell_type": "markdown",
   "metadata": {},
   "source": [
    "### Basic Setup"
   ]
  },
  {
   "cell_type": "code",
   "execution_count": 1,
   "metadata": {
    "tags": []
   },
   "outputs": [
    {
     "name": "stdout",
     "output_type": "stream",
     "text": [
      "loaded\n",
      "loaded\n",
      "loaded gdf\n",
      "EPSG:3857\n"
     ]
    }
   ],
   "source": [
    "from upt.preprocessor.features_of_interest import FeatureOfInterest as foi\n",
    "from upt.postprocessor.a_star import AStar\n",
    "from upt.utils.geo_utils import line_smoothing as lsp\n",
    "\n",
    "import matplotlib.pyplot as plt\n",
    "\n",
    "\n",
    "depok_obj = foi('Depok',crs=\"EPSG:3857\",zoom_level=19)\n",
    "depok_school = depok_obj.area_of_interest({'building': True})\n",
    "\n",
    "\n",
    "# depok_star = AStar(depok_school,'area',crs=depok_school.crs)\n",
    "# depok_path = depok_star.run_instance(3,1000)\n",
    "# way_marker = depok_star.create_line()\n",
    "# way_path = lsp(way_marker[:,0],way_marker[:,1],)\n",
    "\n",
    "# ax = depok_school.plot(column=\"area\",cmap='plasma')\n",
    "# plt.plot(way_path[:,0], way_path[:,1],color='blue')"
   ]
  },
  {
   "cell_type": "code",
   "execution_count": null,
   "metadata": {},
   "outputs": [],
   "source": [
    "depok_school.crs"
   ]
  },
  {
   "cell_type": "code",
   "execution_count": 6,
   "metadata": {},
   "outputs": [],
   "source": [
    "from upt.preprocessor.features_of_interest import FeatureOfInterest as foi\n",
    "from upt.postprocessor.a_star import AStar\n",
    "from upt.utils.geo_utils import line_smoothing as lsp\n",
    "from upt.utils.file_handle import FileHandle\n",
    "\n",
    "import matplotlib.pyplot as plt\n",
    "\n",
    "fh = FileHandle(\"14525364_Depok\")\n",
    "depok_school = fh.load_gdf(\"Depok_calculated_amenity_school\",fh.feature_dir)\n",
    "\n",
    "# depok_star = AStar(depok_school,'area',crs=depok_school.crs)\n",
    "# depok_path = depok_star.run_instance(3,1000)\n",
    "# way_marker = depok_star.create_line()\n",
    "# way_path = lsp(way_marker[:,0],way_marker[:,1],)\n",
    "# # print(way_marker)\n",
    "\n",
    "# ax = depok_school.plot(column=\"amenity school_area\",cmap='afmhot')\n",
    "# plt.plot(way_path[:,0], way_path[:,1],color='blue')"
   ]
  },
  {
   "cell_type": "code",
   "execution_count": null,
   "metadata": {},
   "outputs": [],
   "source": [
    "depok_school.plot()"
   ]
  },
  {
   "cell_type": "code",
   "execution_count": null,
   "metadata": {},
   "outputs": [],
   "source": [
    "zen = np.random.normal(15, 3, size=(1000,2))\n",
    "mass = 1\n",
    "g = 9.81\n",
    "c = 0.025\n",
    "flight_lv  = 400\n",
    "\n",
    "gamma = np.sqrt(mass*g/c)\n",
    "log2 = np.log(2)\n",
    "cy = c*flight_lv\n",
    "mperc = mass/c\n",
    "mgamma = mass*gamma\n",
    "def ballistic(vx):\n",
    "    x = mperc*np.log(1+(vx*((mass*log2+cy)/(mgamma))))\n",
    "    y = mperc*np.log(1+(vx*((mass*log2+cy)/(mgamma))))\n",
    "    return (y)\n",
    "                        \n",
    "vec_ball = np.vectorize(ballistic)\n",
    "x_dist = vec_ball(zen)\n",
    "plt.scatter(x_dist[0],x_dist[1])"
   ]
  },
  {
   "cell_type": "code",
   "execution_count": null,
   "metadata": {},
   "outputs": [],
   "source": [
    "from shapely.geometry import Point, Polygon, box\n",
    "from tesspy.tessellation_functions import get_squares_polyfill"
   ]
  },
  {
   "cell_type": "code",
   "execution_count": null,
   "metadata": {},
   "outputs": [],
   "source": [
    "p_list = list(map(lambda point:Point(point),x_dist))\n",
    "idx = np.arange(x_dist.shape[0])\n",
    "point_gpd = gpd.GeoDataFrame({'Name':idx,'geometry':p_list})"
   ]
  },
  {
   "cell_type": "code",
   "execution_count": null,
   "metadata": {},
   "outputs": [],
   "source": [
    "point_gpd.plot()"
   ]
  },
  {
   "cell_type": "code",
   "execution_count": null,
   "metadata": {},
   "outputs": [],
   "source": [
    "sqr_poly = box(*point_gpd.total_bounds)"
   ]
  },
  {
   "cell_type": "code",
   "execution_count": null,
   "metadata": {},
   "outputs": [],
   "source": [
    "sqr_poly"
   ]
  },
  {
   "cell_type": "code",
   "execution_count": null,
   "metadata": {},
   "outputs": [],
   "source": [
    "sqr_df = gpd.GeoDataFrame({'Name':[1],'geometry':sqr_poly})"
   ]
  },
  {
   "cell_type": "code",
   "execution_count": null,
   "metadata": {},
   "outputs": [],
   "source": [
    "sqr_tessel = get_squares_polyfill(sqr_df,21)"
   ]
  },
  {
   "cell_type": "code",
   "execution_count": null,
   "metadata": {},
   "outputs": [],
   "source": [
    "sqr_tessel.plot(lw=4,edgecolor='w')"
   ]
  },
  {
   "cell_type": "code",
   "execution_count": null,
   "metadata": {},
   "outputs": [],
   "source": [
    "sqr_tessel['id']=sqr_tessel.index\n",
    "data_merged = gpd.sjoin(area_overlay, sqr_tessel, how=\"inner\",predicate='within')\n",
    "area_df = data_merged.groupby('id')['idx'].agg('sum')\n",
    "final_gpd = pd.merge(square_grid, area_df, on='id', how='outer', indicator=False)"
   ]
  },
  {
   "cell_type": "code",
   "execution_count": null,
   "metadata": {},
   "outputs": [],
   "source": [
    "sqr_tessel['id']=sqr_tessel.index"
   ]
  },
  {
   "cell_type": "code",
   "execution_count": null,
   "metadata": {},
   "outputs": [],
   "source": [
    "sqr_tessel"
   ]
  },
  {
   "cell_type": "code",
   "execution_count": null,
   "metadata": {},
   "outputs": [],
   "source": [
    "del sqr_tessel['children_id']"
   ]
  },
  {
   "cell_type": "code",
   "execution_count": null,
   "metadata": {},
   "outputs": [],
   "source": [
    "point_gpd.crs is None"
   ]
  },
  {
   "cell_type": "code",
   "execution_count": null,
   "metadata": {},
   "outputs": [],
   "source": [
    "sqr_tessel.crs"
   ]
  },
  {
   "cell_type": "code",
   "execution_count": null,
   "metadata": {},
   "outputs": [],
   "source": [
    "point_gpd.crs"
   ]
  },
  {
   "cell_type": "code",
   "execution_count": null,
   "metadata": {},
   "outputs": [],
   "source": [
    "point_gpd.set_crs('EPSG:4326')"
   ]
  },
  {
   "cell_type": "code",
   "execution_count": null,
   "metadata": {},
   "outputs": [],
   "source": [
    "point_gpd = point_gpd.to_crs('epsg:4326')\n",
    "point_gpd.crs  "
   ]
  },
  {
   "cell_type": "code",
   "execution_count": null,
   "metadata": {},
   "outputs": [],
   "source": [
    "data_merged = gpd.sjoin(point_gpd, sqr_tessel, how=\"inner\",predicate='within')"
   ]
  },
  {
   "cell_type": "code",
   "execution_count": null,
   "metadata": {},
   "outputs": [],
   "source": [
    "data_merged"
   ]
  },
  {
   "cell_type": "code",
   "execution_count": null,
   "metadata": {},
   "outputs": [],
   "source": [
    "point_gpd.plot()"
   ]
  },
  {
   "cell_type": "code",
   "execution_count": null,
   "metadata": {},
   "outputs": [],
   "source": [
    "data_merged"
   ]
  },
  {
   "cell_type": "code",
   "execution_count": null,
   "metadata": {},
   "outputs": [],
   "source": [
    "area_df = data_merged.groupby('index_right').agg('sum')"
   ]
  },
  {
   "cell_type": "code",
   "execution_count": null,
   "metadata": {},
   "outputs": [],
   "source": [
    "sqr_tessel['id'] = sqr_tessel.index"
   ]
  },
  {
   "cell_type": "code",
   "execution_count": null,
   "metadata": {},
   "outputs": [],
   "source": [
    "final_gpd = pd.merge(sqr_tessel, area_df, on='id', how='outer', indicator=False)"
   ]
  },
  {
   "cell_type": "code",
   "execution_count": null,
   "metadata": {},
   "outputs": [],
   "source": [
    "area_df['id']=area_df.index"
   ]
  },
  {
   "cell_type": "code",
   "execution_count": null,
   "metadata": {},
   "outputs": [],
   "source": [
    "final_gpd.fillna(0,inplace=True)"
   ]
  },
  {
   "cell_type": "code",
   "execution_count": null,
   "metadata": {},
   "outputs": [],
   "source": [
    "final_gpd.plot(column='Name_right')"
   ]
  },
  {
   "cell_type": "code",
   "execution_count": null,
   "metadata": {},
   "outputs": [],
   "source": [
    "plt.plot(x_dist)"
   ]
  },
  {
   "cell_type": "code",
   "execution_count": null,
   "metadata": {},
   "outputs": [],
   "source": [
    "x_dist[1]"
   ]
  },
  {
   "cell_type": "code",
   "execution_count": null,
   "metadata": {},
   "outputs": [],
   "source": [
    "import numpy as np\n",
    "\n",
    "# Generate some random data\n",
    "points = np.random.rand(100, 2)\n",
    "\n",
    "# Define the bins for the histogram\n",
    "bins = [np.linspace(x_dist.min(), x_dist.max(), 10), np.linspace(x_dist.min(), x_dist.max(), 10)]\n",
    "\n",
    "# Use the histogram2d function to create the histogram\n",
    "histogram, a, b = np.histogram2d(x_dist[:,0], x_dist[:,1], bins=bins)\n",
    "\n",
    "# Print the histogram\n",
    "print(histogram)"
   ]
  },
  {
   "cell_type": "code",
   "execution_count": null,
   "metadata": {},
   "outputs": [],
   "source": [
    "b == a"
   ]
  },
  {
   "cell_type": "code",
   "execution_count": null,
   "metadata": {},
   "outputs": [],
   "source": [
    "r = histogram.flatten()"
   ]
  },
  {
   "cell_type": "code",
   "execution_count": null,
   "metadata": {},
   "outputs": [],
   "source": [
    "a[0]"
   ]
  },
  {
   "cell_type": "code",
   "execution_count": null,
   "metadata": {},
   "outputs": [],
   "source": [
    "d_map = {}\n",
    "p_map = {}\n",
    "d_map.setdefault(\"N_points\", [])\n",
    "p_map.setdefault(\"Lon\", [])\n",
    "p_map.setdefault(\"Lat\", [])\n",
    "for ith, o in enumerate(histogram):\n",
    "    for jth, k in enumerate(histogram[ith]):\n",
    "        d_map['N_points'].append(k)\n",
    "        p_map['Lon'].append(a[ith])\n",
    "        p_map['Lat'].append(b[jth])\n",
    "        "
   ]
  },
  {
   "cell_type": "code",
   "execution_count": null,
   "metadata": {},
   "outputs": [],
   "source": []
  },
  {
   "cell_type": "code",
   "execution_count": null,
   "metadata": {},
   "outputs": [],
   "source": [
    "histogram.shape"
   ]
  },
  {
   "cell_type": "code",
   "execution_count": null,
   "metadata": {},
   "outputs": [],
   "source": [
    "import pandas as pd\n",
    "p_dict = {'x':a,'y':b}\n",
    "p_df = pd.DataFrame(p_map)\n",
    "d_df = pd.DataFrame(d_map)\n",
    "n_join = p_df.join(d_df)"
   ]
  },
  {
   "cell_type": "code",
   "execution_count": null,
   "metadata": {},
   "outputs": [],
   "source": [
    "import geopandas as gpd\n",
    "gdf = gpd.GeoDataFrame(n_join, geometry=gpd.points_from_xy(n_join['Lon'], n_join['Lat']))"
   ]
  },
  {
   "cell_type": "code",
   "execution_count": null,
   "metadata": {},
   "outputs": [],
   "source": [
    "gdf['N_points'].unique()"
   ]
  },
  {
   "cell_type": "code",
   "execution_count": null,
   "metadata": {},
   "outputs": [],
   "source": [
    "gdf['N_points'] = gdf['N_points']/1000"
   ]
  },
  {
   "cell_type": "code",
   "execution_count": null,
   "metadata": {},
   "outputs": [],
   "source": [
    "gdf.plot(column='N_points')"
   ]
  },
  {
   "cell_type": "code",
   "execution_count": null,
   "metadata": {},
   "outputs": [],
   "source": [
    "from sklearn.preprocessing import normalize\n",
    "p_hist = histogram/1000"
   ]
  },
  {
   "cell_type": "code",
   "execution_count": null,
   "metadata": {},
   "outputs": [],
   "source": [
    "p_hist.max()"
   ]
  },
  {
   "cell_type": "code",
   "execution_count": null,
   "metadata": {},
   "outputs": [],
   "source": [
    "n_hist.max()"
   ]
  },
  {
   "cell_type": "code",
   "execution_count": null,
   "metadata": {},
   "outputs": [],
   "source": [
    "import numpy as np\n",
    "\n",
    "# Generate some random data\n",
    "points = np.random.rand(100, 2)\n",
    "\n",
    "# Define the bins for the histogram\n",
    "bins = [np.linspace(0, 1, 10), np.linspace(0, 1, 10)]\n",
    "\n",
    "# Use the histogram2d function to create the histogram\n",
    "histogram, _, _ = np.histogram2d(x_dist[:,0], x_dist[:,1], bins=bins)\n",
    "\n",
    "# Print the histogram\n",
    "print(histogram)"
   ]
  },
  {
   "cell_type": "code",
   "execution_count": null,
   "metadata": {},
   "outputs": [],
   "source": [
    "points.max()"
   ]
  },
  {
   "cell_type": "code",
   "execution_count": null,
   "metadata": {},
   "outputs": [],
   "source": [
    "points[:,0]"
   ]
  },
  {
   "cell_type": "code",
   "execution_count": null,
   "metadata": {},
   "outputs": [],
   "source": [
    "np.flip(histogram,axis=0)"
   ]
  },
  {
   "cell_type": "code",
   "execution_count": null,
   "metadata": {},
   "outputs": [],
   "source": [
    "from sklearn.preprocessing import normalize\n",
    "zel = normalize(histogram)"
   ]
  },
  {
   "cell_type": "code",
   "execution_count": null,
   "metadata": {},
   "outputs": [],
   "source": [
    "zel =histogram/histogram.max()"
   ]
  },
  {
   "cell_type": "code",
   "execution_count": null,
   "metadata": {},
   "outputs": [],
   "source": [
    "histogram.max()"
   ]
  },
  {
   "cell_type": "code",
   "execution_count": null,
   "metadata": {},
   "outputs": [],
   "source": [
    "zel"
   ]
  },
  {
   "cell_type": "code",
   "execution_count": null,
   "metadata": {},
   "outputs": [],
   "source": [
    "help(np.histogram2d)"
   ]
  },
  {
   "cell_type": "code",
   "execution_count": null,
   "metadata": {},
   "outputs": [],
   "source": [
    "histogram.mean()"
   ]
  },
  {
   "cell_type": "code",
   "execution_count": null,
   "metadata": {},
   "outputs": [],
   "source": [
    "x_dist.shape"
   ]
  },
  {
   "cell_type": "code",
   "execution_count": null,
   "metadata": {},
   "outputs": [],
   "source": [
    "point_gpd.total_bounds"
   ]
  },
  {
   "cell_type": "code",
   "execution_count": null,
   "metadata": {},
   "outputs": [],
   "source": [
    "x_dist[0].max()"
   ]
  },
  {
   "cell_type": "code",
   "execution_count": null,
   "metadata": {},
   "outputs": [],
   "source": [
    "import random\n",
    "\n",
    "# Define the bounds of the simulation\n",
    "x_min = 0\n",
    "x_max = 100\n",
    "y_min = 0\n",
    "y_max = 100\n",
    "\n",
    "# Number of iterations to run the simulation\n",
    "num_iterations = 100000\n",
    "\n",
    "# Counter to keep track of the number of points that fall within the region of interest\n",
    "count = 0\n",
    "\n",
    "# Run the simulation\n",
    "for i in range(num_iterations):\n",
    "  # Generate a random point within the bounds of the simulation\n",
    "  x = random.uniform(x_min, x_max)\n",
    "  y = random.uniform(y_min, y_max)\n",
    "\n",
    "  # Check if the point falls within the region of interest\n",
    "  if x**2 + y**2 <= 100:\n",
    "    count += 1\n",
    "\n",
    "# Calculate the probability that a randomly generated point falls within the region of interest\n",
    "probability = count / num_iterations\n",
    "print(probability)\n",
    "print(count)"
   ]
  },
  {
   "cell_type": "code",
   "execution_count": null,
   "metadata": {},
   "outputs": [],
   "source": []
  }
 ],
 "metadata": {
  "kernelspec": {
   "display_name": "Python 3 (ipykernel)",
   "language": "python",
   "name": "python3"
  },
  "language_info": {
   "codemirror_mode": {
    "name": "ipython",
    "version": 3
   },
   "file_extension": ".py",
   "mimetype": "text/x-python",
   "name": "python",
   "nbconvert_exporter": "python",
   "pygments_lexer": "ipython3",
   "version": "3.10.6"
  },
  "vscode": {
   "interpreter": {
    "hash": "e1912d2232e61b75ce92d7aa23bc8b095093cccdcafbeb3fccfcdbfc6fd8fcc6"
   }
  }
 },
 "nbformat": 4,
 "nbformat_minor": 4
}
